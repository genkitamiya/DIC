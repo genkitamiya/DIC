{
 "cells": [
  {
   "cell_type": "markdown",
   "metadata": {},
   "source": [
    "# Week4授業前課題3 オブジェクト指向の活用<br>\n",
    "\n",
    "#### オブジェクト指向について\n",
    "\n",
    "これまでの課題では触れてきませんでしたが、`StandardScaler`や`LinearRegression`のような**クラス**と呼ばれるものがPythonなどのプログラム言語では利用できます。<br>\n",
    "<br>\n",
    "クラスの構文は、オブジェクト指向と呼ばれる考え方を利用したプログラミングの基本的な道具になります。<br>\n",
    "<br>\n",
    "この課題ではこれまでに既に登場していたクラスを例に、クラスを活用することでどのようなことができるのかを見て学んでいきます。そして課題の後半では`StandardScaler`のクラスをスクラッチで自作します。"
   ]
  },
  {
   "cell_type": "markdown",
   "metadata": {},
   "source": [
    "## 【問題1】これまで利用してきたクラスの列挙\n",
    "クラスを使う際はインスタンス化を行うことと、クラスの命名法がわかりました。この情報を元に、これまでの課題で利用してきたコードの中でどのようなクラスがあったかを答えてください。<br>\n",
    "<br>\n",
    "Pandas、matplotlib、scikit-learnからそれぞれ1つ以上見つけてください。"
   ]
  },
  {
   "cell_type": "markdown",
   "metadata": {},
   "source": [
    ">- Pandas: DataFrame、Series等\n",
    ">- matplotlib: Patch、Circle等\n",
    ">- scikit-learn: LinearRegression、SVR、RandomForestClassifier等"
   ]
  },
  {
   "cell_type": "markdown",
   "metadata": {},
   "source": [
    "## 【問題2】これまで利用してきたメソッドやインスタンス変数の列挙\n",
    "これまでの課題で利用してきたコードの中でどのようなメソッドやインスタンス変数があったかを答えてください。<br>\n",
    "<br>\n",
    "最低でもそれぞれ5つ以上答えてください。<br>\n",
    "\n",
    "<br>\n",
    "\n",
    "**《ndarrayやstrもインスタンス》**<br>\n",
    "<br>\n",
    "ドットをつけるというと、NumPyのndarrayに対してndarray.shapeやndarray.sum()のような使い方は何度も利用してきたかと思います。これは、ndarrayもインスタンスオブジェクトであり、shapeはインスタンス変数、sumはメソッドだったということです。<br>\n",
    "<br>\n",
    "Pythonのコードに登場するデータはどれもインスタンスオブジェクトであり、listやstrもメソッドを持ちます。"
   ]
  },
  {
   "cell_type": "markdown",
   "metadata": {},
   "source": [
    ">- インスタンス：bool, dict, tuple, decimal, int, dataframe\n",
    ">- メソッド：reshape, concatenate, append, format, loc"
   ]
  },
  {
   "cell_type": "markdown",
   "metadata": {},
   "source": [
    "## 【問題3】標準化クラスをスクラッチで作成\n",
    "理解をより深めるため、`StandardScaler`をスクラッチで作成しましょう。scikit-learnは使わず、NumPyなどを活用して標準化の計算を記述します。具体的には`fit`メソッドと`transform`メソッドを作ります。<br>\n",
    "<br>\n",
    "今回は雛形を用意しました。クラスの作成方法は関数に近いです。メソッドはクラスの中にさらにインデントを一段下げて記述します。<br>\n",
    "<br>\n",
    "インスタンス変数を作成する際は`self.mean_`のように`self`を付けます。クラスの外から`scaler.mean_`と書いていたscalerの部分が自分自身を表すselfになっています。"
   ]
  },
  {
   "cell_type": "code",
   "execution_count": 10,
   "metadata": {},
   "outputs": [],
   "source": [
    "class ScratchStandardScaler():\n",
    "    \"\"\"\n",
    "    標準化のためのクラス\n",
    "\n",
    "    Attributes\n",
    "    ----------\n",
    "    mean_ : 次の形のndarray, shape(n_features,)\n",
    "        平均\n",
    "    var_ : 次の形のndarray, shape(n_features,)\n",
    "        分散\n",
    "    \"\"\"\n",
    "    def fit(self, X):\n",
    "        \"\"\"\n",
    "        標準化のために平均と標準偏差を計算する。\n",
    "\n",
    "        Parameters\n",
    "        ----------\n",
    "        X : 次の形のndarray, shape (n_samples, n_features)\n",
    "            訓練データ\n",
    "        \"\"\"\n",
    "        self.mean_ = np.mean(X)\n",
    "        self.var_ = np.var(X)\n",
    "        \n",
    "    def transform(self, X):\n",
    "        \"\"\"\n",
    "        fitで求めた値を使い標準化を行う。\n",
    "\n",
    "        Parameters\n",
    "        ----------\n",
    "        X : 次の形のndarray, shape (n_samples, n_features)\n",
    "            特徴量\n",
    "\n",
    "        Returns\n",
    "        ----------\n",
    "        X_scaled : 次の形のndarray, shape (n_samples, n_features)\n",
    "            標準化された特緒量\n",
    "        \"\"\"\n",
    "        \n",
    "        X_scaled = X - self.mean_    # 各要素から平均値を引く\n",
    "\n",
    "        X_scaled = X / self.var_     # 各要素を偏差で割る\n",
    "\n",
    "        return X_scaled"
   ]
  },
  {
   "cell_type": "code",
   "execution_count": 5,
   "metadata": {},
   "outputs": [
    {
     "name": "stdout",
     "output_type": "stream",
     "text": [
      "平均 : 2.46\n",
      "分散 : 3.1744\n",
      "[[1.60660282 1.10257056 0.44102823 0.06300403]\n",
      " [1.54359879 0.94506048 0.44102823 0.06300403]\n",
      " [1.48059476 1.00806452 0.40952621 0.06300403]\n",
      " [1.44909274 0.9765625  0.47253024 0.06300403]\n",
      " [1.57510081 1.13407258 0.44102823 0.06300403]\n",
      " [1.70110887 1.22857863 0.53553427 0.12600806]\n",
      " [1.44909274 1.07106855 0.44102823 0.09450605]\n",
      " [1.57510081 1.07106855 0.47253024 0.06300403]\n",
      " [1.38608871 0.91355847 0.44102823 0.06300403]\n",
      " [1.54359879 0.9765625  0.47253024 0.03150202]]\n"
     ]
    }
   ],
   "source": [
    "import numpy as np\n",
    "from sklearn.datasets import load_iris\n",
    "data = load_iris()\n",
    "X = data.data[:10]\n",
    "scratch_scaler = ScratchStandardScaler()\n",
    "scratch_scaler.fit(X)\n",
    "print(\"平均 : {}\".format(scratch_scaler.mean_))\n",
    "print(\"分散 : {}\".format(scratch_scaler.var_))\n",
    "X_std = scratch_scaler.transform(X)\n",
    "print(X_std)"
   ]
  },
  {
   "cell_type": "markdown",
   "metadata": {},
   "source": [
    "## 【問題4】 四則演算を行うクラスの作成\n",
    "コンストラクタの動作を確認するためのサンプルコードを用意しました。コンストラクタは、インスタンス化が行われる時に自動的に実行されるという働きがあります。こういった特殊な動作をするメソッドを、**特殊メソッド**と呼びます。<br>\n",
    "\n",
    "<br>\n",
    "\n",
    "**《サンプルコード》**\n",
    "\n",
    "```\n",
    "class ExampleClass():\n",
    "    \"\"\"\n",
    "    説明用の簡単なクラス\n",
    "\n",
    "    Parameters\n",
    "    ----------\n",
    "    value : float or int\n",
    "        初期値\n",
    "\n",
    "    Attributes\n",
    "    ----------\n",
    "    value : float or int\n",
    "        計算結果\n",
    "    \"\"\"\n",
    "    def __init__(self, value):\n",
    "        self.value = value\n",
    "        print(\"初期値{}が設定されました\".format(self.value))\n",
    "    def add(self, value2):\n",
    "        \"\"\"\n",
    "        受け取った引数をself.valueに加える\n",
    "        \"\"\"\n",
    "        self.value += value2\n",
    "example = ExampleClass(5)\n",
    "print(\"value : {}\".format(example.value))\n",
    "example.add(3)\n",
    "print(\"value : {}\".format(example.value))\n",
    "```\n",
    "\n",
    "上記ExampleClassは足し算のメソッドを持っていますが、これに引き算、掛け算、割り算のメソッドを加えてください。<br>\n",
    "<br>\n",
    "コンストラクタに入力されたvalueが文字列や配列など数値以外だった場合にはエラーを出すようにしてください。<br>\n",
    "<br>\n",
    "クラス名や説明文も適切に書き換えてください。"
   ]
  },
  {
   "cell_type": "code",
   "execution_count": 38,
   "metadata": {},
   "outputs": [],
   "source": [
    "class SimpleCalculator():\n",
    "    \"\"\"\n",
    "    説明用の簡単なクラス\n",
    "\n",
    "    Parameters\n",
    "    ----------\n",
    "    value : float or int\n",
    "        初期値\n",
    "\n",
    "    Attributes\n",
    "    ----------\n",
    "    value : float or int\n",
    "        計算結果\n",
    "    \"\"\"\n",
    "    def __init__(self, value):\n",
    "        if isinstance(value, (int, float)):\n",
    "            self.value = value\n",
    "        else:\n",
    "            raise TypeError(\"Value must be a number!\")\n",
    "            \n",
    "        print(\"初期値{}が設定されました\".format(self.value))\n",
    "        \n",
    "    def add(self, value2):\n",
    "        \"\"\"\n",
    "        受け取った引数をself.valueに加える\n",
    "        \"\"\"\n",
    "        try:\n",
    "            self.value += value2\n",
    "        except TypeError as e:\n",
    "            print(\"TypeError:\", e)\n",
    "    def sub(self, value3):\n",
    "        \"\"\"\n",
    "        受け取った引数をself.valueから引く\n",
    "        \"\"\"\n",
    "        try:\n",
    "            self.value -= value3\n",
    "        except TypeError as e:\n",
    "            print(\"TypeError:\", e)\n",
    "    def mul(self, value4):\n",
    "        \"\"\"\n",
    "        受け取った引数をself.valueに掛ける\n",
    "        \"\"\"\n",
    "        try:\n",
    "            self.value *= value4\n",
    "        except TypeError as e:\n",
    "            print(\"TypeError:\", e)\n",
    "    def div(self, value5):\n",
    "        \"\"\"\n",
    "        受け取った引数をself.valueから割る\n",
    "        \"\"\"\n",
    "        try:\n",
    "            self.value /= value5\n",
    "        except TypeError as e:\n",
    "            print(\"TypeError:\", e)"
   ]
  },
  {
   "cell_type": "code",
   "execution_count": 39,
   "metadata": {},
   "outputs": [
    {
     "name": "stdout",
     "output_type": "stream",
     "text": [
      "初期値1が設定されました\n",
      "Add 3 : 4\n",
      "Subtract 3 : 1\n",
      "Multiply by 3 : 3\n",
      "Divide by 3 : 1.0\n"
     ]
    }
   ],
   "source": [
    "example = SimpleCalculator(1)\n",
    "\n",
    "example.add(3)\n",
    "print(\"Add 3 : {}\".format(example.value))\n",
    "\n",
    "example.sub(3)\n",
    "print(\"Subtract 3 : {}\".format(example.value))\n",
    "\n",
    "example.mul(3)\n",
    "print(\"Multiply by 3 : {}\".format(example.value))\n",
    "\n",
    "example.div(3)\n",
    "print(\"Divide by 3 : {}\".format(example.value))"
   ]
  },
  {
   "cell_type": "code",
   "execution_count": 40,
   "metadata": {},
   "outputs": [
    {
     "ename": "TypeError",
     "evalue": "Value must be a number!",
     "output_type": "error",
     "traceback": [
      "\u001b[0;31m---------------------------------------------------------------------------\u001b[0m",
      "\u001b[0;31mTypeError\u001b[0m                                 Traceback (most recent call last)",
      "\u001b[0;32m<ipython-input-40-75e7a5279b40>\u001b[0m in \u001b[0;36m<module>\u001b[0;34m\u001b[0m\n\u001b[1;32m      1\u001b[0m \u001b[0;31m# 例外処理の発生\u001b[0m\u001b[0;34m\u001b[0m\u001b[0;34m\u001b[0m\u001b[0;34m\u001b[0m\u001b[0m\n\u001b[0;32m----> 2\u001b[0;31m \u001b[0mexception\u001b[0m \u001b[0;34m=\u001b[0m \u001b[0mSimpleCalculator\u001b[0m\u001b[0;34m(\u001b[0m\u001b[0;34m'hi'\u001b[0m\u001b[0;34m)\u001b[0m\u001b[0;34m\u001b[0m\u001b[0;34m\u001b[0m\u001b[0m\n\u001b[0m",
      "\u001b[0;32m<ipython-input-38-82f1ff20754b>\u001b[0m in \u001b[0;36m__init__\u001b[0;34m(self, value)\u001b[0m\n\u001b[1;32m     17\u001b[0m             \u001b[0mself\u001b[0m\u001b[0;34m.\u001b[0m\u001b[0mvalue\u001b[0m \u001b[0;34m=\u001b[0m \u001b[0mvalue\u001b[0m\u001b[0;34m\u001b[0m\u001b[0;34m\u001b[0m\u001b[0m\n\u001b[1;32m     18\u001b[0m         \u001b[0;32melse\u001b[0m\u001b[0;34m:\u001b[0m\u001b[0;34m\u001b[0m\u001b[0;34m\u001b[0m\u001b[0m\n\u001b[0;32m---> 19\u001b[0;31m             \u001b[0;32mraise\u001b[0m \u001b[0mTypeError\u001b[0m\u001b[0;34m(\u001b[0m\u001b[0;34m\"Value must be a number!\"\u001b[0m\u001b[0;34m)\u001b[0m\u001b[0;34m\u001b[0m\u001b[0;34m\u001b[0m\u001b[0m\n\u001b[0m\u001b[1;32m     20\u001b[0m \u001b[0;34m\u001b[0m\u001b[0m\n\u001b[1;32m     21\u001b[0m         \u001b[0mprint\u001b[0m\u001b[0;34m(\u001b[0m\u001b[0;34m\"初期値{}が設定されました\"\u001b[0m\u001b[0;34m.\u001b[0m\u001b[0mformat\u001b[0m\u001b[0;34m(\u001b[0m\u001b[0mself\u001b[0m\u001b[0;34m.\u001b[0m\u001b[0mvalue\u001b[0m\u001b[0;34m)\u001b[0m\u001b[0;34m)\u001b[0m\u001b[0;34m\u001b[0m\u001b[0;34m\u001b[0m\u001b[0m\n",
      "\u001b[0;31mTypeError\u001b[0m: Value must be a number!"
     ]
    }
   ],
   "source": [
    "# 例外処理の発生\n",
    "exception = SimpleCalculator('hi')"
   ]
  },
  {
   "cell_type": "code",
   "execution_count": null,
   "metadata": {},
   "outputs": [],
   "source": []
  }
 ],
 "metadata": {
  "kernelspec": {
   "display_name": "Python 3",
   "language": "python",
   "name": "python3"
  },
  "language_info": {
   "codemirror_mode": {
    "name": "ipython",
    "version": 3
   },
   "file_extension": ".py",
   "mimetype": "text/x-python",
   "name": "python",
   "nbconvert_exporter": "python",
   "pygments_lexer": "ipython3",
   "version": "3.7.7"
  }
 },
 "nbformat": 4,
 "nbformat_minor": 4
}
