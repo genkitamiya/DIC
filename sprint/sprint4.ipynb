{
 "cells": [
  {
   "cell_type": "markdown",
   "metadata": {},
   "source": [
    "# ロジスティック回帰スクラッチ\n",
    "ロジスティック回帰のクラスをスクラッチで作成していきます。NumPyなど最低限のライブラリのみを使いアルゴリズムを実装していきます。<br>\n",
    "<br>\n",
    "以下に雛形を用意してあります。このScratchLogisticRegressionクラスにコードを書き加えていってください。推定関係のメソッドは線形回帰と異なり、ラベルを出力するpredictメソッドと、確率を出力するpredict_probaメソッドの2種類を作成します。"
   ]
  },
  {
   "cell_type": "code",
   "execution_count": 126,
   "metadata": {},
   "outputs": [],
   "source": [
    "import numpy as np\n",
    "import warnings\n",
    "warnings.filterwarnings(\"ignore\")"
   ]
  },
  {
   "cell_type": "code",
   "execution_count": 269,
   "metadata": {},
   "outputs": [],
   "source": [
    "# 雛形\n",
    "\n",
    "class ScratchLogisticRegression():\n",
    "    \"\"\"\n",
    "    ロジスティック回帰のスクラッチ実装\n",
    "\n",
    "    Parameters\n",
    "    ----------\n",
    "    num_iter : int\n",
    "      イテレーション数\n",
    "    lr : float\n",
    "      学習率\n",
    "    bias : bool\n",
    "      バイアス項を入れない場合はTrue\n",
    "    verbose : bool\n",
    "      学習過程を出力する場合はTrue\n",
    "\n",
    "    Attributes\n",
    "    ----------\n",
    "    self.coef_ : 次の形のndarray, shape (n_features,)\n",
    "      パラメータ\n",
    "    self.loss : 次の形のndarray, shape (self.num_iter,)\n",
    "      訓練データに対する損失の記録\n",
    "    self.val_loss : 次の形のndarray, shape (self.num_iter,)\n",
    "      検証データに対する損失の記録\n",
    "\n",
    "    \"\"\"\n",
    "    def __init__(self, num_iter=100, lr=0.1, C=1.0, bias=True,\n",
    "                 verbose=False, coef=None, labels=None):\n",
    "        # ハイパーパラメータを属性として記録\n",
    "        self.num_iter = num_iter\n",
    "        self.lr = lr\n",
    "        self.C = C\n",
    "        self.bias = bias\n",
    "        self.verbose = verbose\n",
    "        # 損失を記録する配列を用意\n",
    "        self.loss = np.zeros(self.num_iter)\n",
    "        self.val_loss = np.zeros(self.num_iter)\n",
    "        self.coef_ = coef\n",
    "        self.labels_ = labels\n",
    "        \n",
    "        \n",
    "    def _logistic_hypothesis(self, X):\n",
    "        \"\"\"\n",
    "        ロジスティック回帰の仮定関数を計算する\n",
    "\n",
    "        Parameters\n",
    "        ----------\n",
    "        X : 次の形のndarray, shape (n_samples, n_features)\n",
    "            訓練データ\n",
    "\n",
    "        Returns\n",
    "        -------\n",
    "            次の形のndarray, shape (n_samples, 1)\n",
    "            シグモイドの仮定関数による推定結果\n",
    "        \"\"\"\n",
    "\n",
    "        return 1/(1 + np.exp(-1 * np.dot(X, self.coef_.T)))\n",
    "    \n",
    "    \n",
    "    def _gradient_descent(self, X, y, h_array):\n",
    "        \"\"\"\n",
    "        最急降下法によりパラメータの更新を行う\n",
    "\n",
    "        Parameters\n",
    "        ----------\n",
    "        X : 次の形のndarray, shape (n_samples, n_features)\n",
    "            訓練データ\n",
    "        y : 次の形のndarray, shape (n_samples, )\n",
    "            訓練データの正解値\n",
    "        h_array : 次の形のndarray, shape (n_samples,)\n",
    "            推定した値    \n",
    "\n",
    "        Returns\n",
    "        -------\n",
    "        self.coef_ : 次の形のndarray, shape (n_features, 1)\n",
    "            最急降下法により更新されたパラメータ\n",
    "        \"\"\"\n",
    "\n",
    "        if self.bias:\n",
    "            self.coef_[0] -= (self.lr/len(X)) * np.dot((h_array - y), X[:, 0])\n",
    "            self.coef_[1:] -= (self.lr/len(X)) * np.dot((h_array - y), X[:, 1:]) + (1/self.C)/len(X) * self.coef_[1:]\n",
    "        else:\n",
    "            self.coef_ -= (self.lr/len(X)) * np.dot((h_array - y), X) + (1/self.C)/len(X) * self.coef_\n",
    "\n",
    "        return self.coef_\n",
    "    \n",
    "    \n",
    "    def fit(self, X, y, X_val=None, y_val=None):\n",
    "        \"\"\"\n",
    "        ロジスティック回帰を学習する。検証データが入力された場合はそれに対する損失と精度もイテレーションごとに計算する。\n",
    "\n",
    "        Parameters\n",
    "        ----------\n",
    "        X : 次の形のndarray, shape (n_samples, n_features)\n",
    "            訓練データの特徴量\n",
    "        y : 次の形のndarray, shape (n_samples, )\n",
    "            訓練データの正解値\n",
    "        X_val : 次の形のndarray, shape (n_samples, n_features)\n",
    "            検証データの特徴量\n",
    "        y_val : 次の形のndarray, shape (n_samples, )\n",
    "            検証データの正解値\n",
    "        \"\"\"\n",
    "        \n",
    "        # 目的変数のラベルを取得し、バイナリに変換した配列を作成\n",
    "        # 以後、計算はy_indicesを用いて行う\n",
    "        self.labels_, y_indices = np.unique(y, return_inverse=True)\n",
    "        \n",
    "        # bias有りの場合はX_0 = 1をXにinsertし、パラメータを作成\n",
    "        if self.bias:\n",
    "            X = np.insert(X, 0, 1, axis=1)\n",
    "            self.coef_ = np.random.normal(size=len(X[0]))\n",
    "        # bias無しの場合はX_0を追加せずパラメータを作成\n",
    "        else:\n",
    "            self.coef_ = np.random.normal(size=len(X[0]))\n",
    "\n",
    "        # 検証データに対する学習の有無はX_valとy_valが提示された場合のみに指定\n",
    "        # hasattr関数を使用し、X_val, y_valが__array__attributeを所持するかで判断\n",
    "        if hasattr(X_val, '__array__') and hasattr(y_val, '__array__'):\n",
    "            \n",
    "            _, yval_indices = np.unique(y_val, return_inverse=True)\n",
    "            \n",
    "            for i in range(self.num_iter):\n",
    "                \n",
    "                h_array = self._logistic_hypothesis(X)\n",
    "                pred = self.predict_proba(X_val)\n",
    "                \n",
    "                self.coef_ = self._gradient_descent(X, y_indices, h_array)\n",
    "\n",
    "                self.loss[i] = self._cost_function(h_array, y_indices)\n",
    "                self.val_loss[i] = self._cost_function(pred[:,1], yval_indices)\n",
    "        \n",
    "        else:\n",
    "            for i in range(self.num_iter):\n",
    "\n",
    "                h_array = self._logistic_hypothesis(X)\n",
    "                \n",
    "                self.coef_ = self._gradient_descent(X, y_indices, h_array)\n",
    "\n",
    "                self.loss[i] = self._cost_function(h_array, y_indices)\n",
    "\n",
    "        if self.verbose:\n",
    "            #verboseをTrueにした際は学習過程を出力\n",
    "            print(self.loss)\n",
    "\n",
    "            \n",
    "    def _cost_function(self, pred, y):\n",
    "        \"\"\"\n",
    "        目的関数の計算\n",
    "\n",
    "        Parameters\n",
    "        ----------\n",
    "        pred : 次の形のndarray, shape (n_samples,)\n",
    "          推定した値\n",
    "        y : 次の形のndarray, shape (n_samples,)\n",
    "          正解値\n",
    "\n",
    "        Returns\n",
    "        ----------\n",
    "          numpy.float\n",
    "          交差エントロピー\n",
    "        \"\"\"\n",
    "\n",
    "        cross_ent = 1/len(y) * np.sum((-y*np.log(pred)) - (1-y)*np.log(1-pred))\n",
    "        reg = (1/self.C)/(2*len(y)) * np.sum(self.coef_[1:]**2)\n",
    "\n",
    "        return cross_ent + reg\n",
    "\n",
    "    \n",
    "    def predict(self, X):\n",
    "        \"\"\"\n",
    "        ロジスティック回帰を使いラベルを推定する。\n",
    "\n",
    "        Parameters\n",
    "        ----------\n",
    "        X : 次の形のndarray, shape (n_samples, n_features)\n",
    "            サンプル\n",
    "\n",
    "        Returns\n",
    "        -------\n",
    "            次の形のndarray, shape (n_samples, 1)\n",
    "            ロジスティック回帰による推定結果\n",
    "        \"\"\"\n",
    "\n",
    "        # bias有りの場合はX_0 = 1をinsert\n",
    "        if self.bias:\n",
    "            X = np.insert(X, 0, 1, axis=1)\n",
    "        # bias無しの場合はX_0を追加せずpass\n",
    "        else:\n",
    "            pass\n",
    "    \n",
    "        prob_1 = np.expand_dims(1 / (1 + np.exp(-1 * np.dot(X, self.coef_.T))), axis=1)\n",
    "        prob_0 = 1 - prob_1\n",
    "\n",
    "        prob_array = np.concatenate((prob_0, prob_1), axis=1)\n",
    "\n",
    "        return self.labels_[np.argmax(prob_array, axis=1)]\n",
    "\n",
    "\n",
    "    def predict_proba(self, X):\n",
    "        \"\"\"\n",
    "        ロジスティック回帰を使い確率を推定する。\n",
    "\n",
    "        Parameters\n",
    "        ----------\n",
    "        X : 次の形のndarray, shape (n_samples, n_features)\n",
    "            サンプル\n",
    "\n",
    "        Returns\n",
    "        -------\n",
    "            次の形のndarray, shape (n_samples, 2)\n",
    "            ロジスティック回帰による推定結果\n",
    "        \"\"\"\n",
    "\n",
    "        # bias有りの場合はX_0 = 1をinsert\n",
    "        if self.bias:\n",
    "            X = np.insert(X, 0, 1, axis=1)\n",
    "        # bias無しの場合はX_0を追加せずpass\n",
    "        else:\n",
    "            pass\n",
    "        \n",
    "        prob_1 = np.expand_dims(1 / (1 + np.exp(-1 * np.dot(X, self.coef_.T))), axis=1)\n",
    "        prob_0 = 1 - prob_1\n",
    "\n",
    "        prob_array = np.concatenate((prob_0, prob_1), axis=1)\n",
    "\n",
    "        return prob_array"
   ]
  },
  {
   "cell_type": "markdown",
   "metadata": {},
   "source": [
    "## 【問題1】仮定関数\n",
    "ロジスティック回帰の仮定関数のメソッドをScratchLogisticRegressionクラスに実装してください。<br>\n",
    "<br>\n",
    "ロジスティック回帰の仮定関数は、線形回帰の仮定関数を**シグモイド関数**に通したものです。シグモイド関数は以下の式で表されます。\n",
    "\n",
    "$$\n",
    "g(z) = \\frac{1}{1+e^{-z}}\n",
    "$$\n",
    "\n",
    "線形回帰の仮定関数は次の式でした。\n",
    "\n",
    "$$\n",
    "h_\\theta(x) = \\theta^T \\cdot x.\n",
    "$$\n",
    "<br>\n",
    "まとめて書くと、ロジスティック回帰の仮定関数は次のようになります。\n",
    "\n",
    "$$\n",
    "h_\\theta(x) = \\frac{1}{1+e^{-\\theta^T \\cdot x}}.\n",
    "$$"
   ]
  },
  {
   "cell_type": "code",
   "execution_count": null,
   "metadata": {},
   "outputs": [],
   "source": [
    "def _logistic_hypothesis(self, X):\n",
    "    \"\"\"\n",
    "    ロジスティック回帰の仮定関数を計算する\n",
    "\n",
    "    Parameters\n",
    "    ----------\n",
    "    X : 次の形のndarray, shape (n_samples, n_features)\n",
    "        訓練データ\n",
    "\n",
    "    Returns\n",
    "    -------\n",
    "        次の形のndarray, shape (n_samples, 1)\n",
    "        シグモイドの仮定関数による推定結果\n",
    "    \"\"\"\n",
    "\n",
    "    return 1/(1 + np.exp(-1 * np.dot(X, self.coef_.T)))"
   ]
  },
  {
   "cell_type": "markdown",
   "metadata": {},
   "source": [
    "## 【問題2】最急降下法\n",
    "最急降下法により学習させる実装を行なってください。以下の式で表されるパラメータの更新式のメソッド_gradient_descentを追加し、fit\n",
    "メソッドから呼び出すようにしてください。\n",
    "\n",
    "$$\n",
    "\\theta_j := \\theta_j - \\alpha \\frac{\\partial J(\\theta)}{\\partial \\theta_j}\\\\\n",
    "\\frac{\\partial J(\\theta)}{\\partial \\theta_0} = \\frac{1}{m}  \\sum_{i=1}^{m}(h_\\theta(x^{(i)}) - y^{(i)})x_j^{(i)}  ,j = 0\\\\\n",
    "\\frac{\\partial J(\\theta)}{\\partial \\theta_j} = \\biggl(\\frac{1}{m}  \\sum_{i=1}^{m}(h_\\theta(x^{(i)}) - y^{(i)})x_j^{(i)} \\biggr) + \\frac{\\lambda}{m}\\theta_j　 ,j\\geq 1\n",
    "$$"
   ]
  },
  {
   "cell_type": "code",
   "execution_count": null,
   "metadata": {},
   "outputs": [],
   "source": [
    "def _gradient_descent(self, X, y, h_array):\n",
    "    \"\"\"\n",
    "    最急降下法によりパラメータの更新を行う\n",
    "\n",
    "    Parameters\n",
    "    ----------\n",
    "    X : 次の形のndarray, shape (n_samples, n_features)\n",
    "        訓練データ\n",
    "    y : 次の形のndarray, shape (n_samples, )\n",
    "        訓練データの正解値\n",
    "    h_array : 次の形のndarray, shape (n_samples,)\n",
    "        推定した値    \n",
    "\n",
    "    Returns\n",
    "    -------\n",
    "    self.coef_ : 次の形のndarray, shape (n_features, 1)\n",
    "        最急降下法により更新されたパラメータ\n",
    "    \"\"\"\n",
    "\n",
    "    if self.bias:\n",
    "        self.coef_[0] -= (self.lr/len(X)) * np.dot((h_array - y), X[:, 0])\n",
    "        self.coef_[1:] -= (self.lr/len(X)) * np.dot((h_array - y), X[:, 1:]) + (1/self.C)/len(X) * self.coef_[1:]\n",
    "    else:\n",
    "        self.coef_ -= (self.lr/len(X)) * np.dot((h_array - y), X) + (1/self.C)/len(X) * self.coef_\n",
    "\n",
    "    return self.coef_"
   ]
  },
  {
   "cell_type": "markdown",
   "metadata": {},
   "source": [
    "## 【問題3】推定\n",
    "推定する仕組みを実装してください。ScratchLogisticRegressionクラスの雛形に含まれるpredictメソッドとpredict_probaメソッドに書き加えてください。\n",
    "\n",
    "仮定関数$h_\\theta(x)$の出力がpredict_probaの返り値、さらにその値に閾値を設けて1と0のラベルとしたものがpredictの返り値となります。"
   ]
  },
  {
   "cell_type": "code",
   "execution_count": null,
   "metadata": {},
   "outputs": [],
   "source": [
    "def predict(self, X):\n",
    "    \"\"\"\n",
    "    ロジスティック回帰を使いラベルを推定する。\n",
    "\n",
    "    Parameters\n",
    "    ----------\n",
    "    X : 次の形のndarray, shape (n_samples, n_features)\n",
    "        サンプル\n",
    "\n",
    "    Returns\n",
    "    -------\n",
    "        次の形のndarray, shape (n_samples, 1)\n",
    "        ロジスティック回帰による推定結果\n",
    "    \"\"\"\n",
    "\n",
    "    # bias有りの場合はX_0 = 1をinsert\n",
    "    if self.bias:\n",
    "        X = np.insert(X, 0, 1, axis=1)\n",
    "    # bias無しの場合はX_0を追加せずpass\n",
    "    else:\n",
    "        pass\n",
    "\n",
    "    prob_1 = np.expand_dims(1 / (1 + np.exp(-1 * np.dot(X, self.coef_.T))), axis=1)\n",
    "    prob_0 = 1 - prob_1\n",
    "\n",
    "    prob_array = np.concatenate((prob_0, prob_1), axis=1)\n",
    "\n",
    "    # より高い確率のインデックスを抽出し、該当するラベルをlabels_から引き出す\n",
    "    return self.labels_[np.argmax(prob_array, axis=1)]\n",
    "\n",
    "\n",
    "def predict_proba(self, X):\n",
    "    \"\"\"\n",
    "    ロジスティック回帰を使い確率を推定する。\n",
    "\n",
    "    Parameters\n",
    "    ----------\n",
    "    X : 次の形のndarray, shape (n_samples, n_features)\n",
    "        サンプル\n",
    "\n",
    "    Returns\n",
    "    -------\n",
    "        次の形のndarray, shape (n_samples, 2)\n",
    "        ロジスティック回帰による推定結果\n",
    "    \"\"\"\n",
    "\n",
    "    # bias有りの場合はX_0 = 1をinsert\n",
    "    if self.bias:\n",
    "        X = np.insert(X, 0, 1, axis=1)\n",
    "    # bias無しの場合はX_0を追加せずpass\n",
    "    else:\n",
    "        pass\n",
    "\n",
    "    prob_1 = np.expand_dims(1 / (1 + np.exp(-1 * np.dot(X, self.coef_.T))), axis=1)\n",
    "    prob_0 = 1 - prob_1\n",
    "\n",
    "    prob_array = np.concatenate((prob_0, prob_1), axis=1)\n",
    "\n",
    "    return prob_array"
   ]
  },
  {
   "cell_type": "markdown",
   "metadata": {},
   "source": [
    "## 【問題4】目的関数\n",
    "以下の数式で表されるロジスティック回帰の**目的関数（損失関数）**を実装してください。そして、これをself.loss, self.val_lossに記録するようにしてください。\n",
    "\n",
    "なお、この数式には正則化項が含まれています。\n",
    "\n",
    "$$\n",
    "J(\\theta)=  \\frac{1}{m}  \\sum_{i=1}^{m}[-y^{(i)} log(h_\\theta(x^{(i)})) - (1-y^{(i)}) log(1-h_\\theta(x^{(i)}))] +\n",
    "\\frac{\\lambda}{2m}\\sum_{j=1}^{n}\n",
    "\\theta_{j}^{2}\n",
    "$$"
   ]
  },
  {
   "cell_type": "code",
   "execution_count": null,
   "metadata": {},
   "outputs": [],
   "source": [
    "def _cost_function(self, pred, y):\n",
    "    \"\"\"\n",
    "    目的関数の計算\n",
    "\n",
    "    Parameters\n",
    "    ----------\n",
    "    pred : 次の形のndarray, shape (n_samples,)\n",
    "      推定した値\n",
    "    y : 次の形のndarray, shape (n_samples,)\n",
    "      正解値\n",
    "\n",
    "    Returns\n",
    "    ----------\n",
    "      numpy.float\n",
    "      交差エントロピー\n",
    "    \"\"\"\n",
    "\n",
    "    cross_ent = 1/len(y) * np.sum((-y*np.log(pred)) - (1-y)*np.log(1-pred))\n",
    "    reg = (1/self.C)/(2*len(y)) * np.sum(self.coef_[1:]**2)\n",
    "\n",
    "    return cross_ent + reg"
   ]
  },
  {
   "cell_type": "markdown",
   "metadata": {},
   "source": [
    "## 【問題5】学習と推定\n",
    "機械学習スクラッチ入門のSprintで用意したirisデータセットのvirgicolorとvirginicaの2値分類に対してスクラッチ実装の学習と推定を行なってください。<br>\n",
    "<br>\n",
    "scikit-learnによる実装と比べ、正しく動いているかを確認してください。<br>\n",
    "<br>\n",
    "AccuracyやPrecision、Recallなどの指標値はscikit-learnを使用してください。"
   ]
  },
  {
   "cell_type": "code",
   "execution_count": 277,
   "metadata": {},
   "outputs": [
    {
     "data": {
      "text/html": [
       "<div>\n",
       "<style scoped>\n",
       "    .dataframe tbody tr th:only-of-type {\n",
       "        vertical-align: middle;\n",
       "    }\n",
       "\n",
       "    .dataframe tbody tr th {\n",
       "        vertical-align: top;\n",
       "    }\n",
       "\n",
       "    .dataframe thead th {\n",
       "        text-align: right;\n",
       "    }\n",
       "</style>\n",
       "<table border=\"1\" class=\"dataframe\">\n",
       "  <thead>\n",
       "    <tr style=\"text-align: right;\">\n",
       "      <th></th>\n",
       "      <th>sepal_length</th>\n",
       "      <th>sepal_width</th>\n",
       "      <th>petal_length</th>\n",
       "      <th>petal_width</th>\n",
       "      <th>Species</th>\n",
       "    </tr>\n",
       "  </thead>\n",
       "  <tbody>\n",
       "    <tr>\n",
       "      <th>50</th>\n",
       "      <td>7.0</td>\n",
       "      <td>3.2</td>\n",
       "      <td>4.7</td>\n",
       "      <td>1.4</td>\n",
       "      <td>1</td>\n",
       "    </tr>\n",
       "    <tr>\n",
       "      <th>51</th>\n",
       "      <td>6.4</td>\n",
       "      <td>3.2</td>\n",
       "      <td>4.5</td>\n",
       "      <td>1.5</td>\n",
       "      <td>1</td>\n",
       "    </tr>\n",
       "    <tr>\n",
       "      <th>52</th>\n",
       "      <td>6.9</td>\n",
       "      <td>3.1</td>\n",
       "      <td>4.9</td>\n",
       "      <td>1.5</td>\n",
       "      <td>1</td>\n",
       "    </tr>\n",
       "    <tr>\n",
       "      <th>53</th>\n",
       "      <td>5.5</td>\n",
       "      <td>2.3</td>\n",
       "      <td>4.0</td>\n",
       "      <td>1.3</td>\n",
       "      <td>1</td>\n",
       "    </tr>\n",
       "    <tr>\n",
       "      <th>54</th>\n",
       "      <td>6.5</td>\n",
       "      <td>2.8</td>\n",
       "      <td>4.6</td>\n",
       "      <td>1.5</td>\n",
       "      <td>1</td>\n",
       "    </tr>\n",
       "  </tbody>\n",
       "</table>\n",
       "</div>"
      ],
      "text/plain": [
       "    sepal_length  sepal_width  petal_length  petal_width  Species\n",
       "50           7.0          3.2           4.7          1.4        1\n",
       "51           6.4          3.2           4.5          1.5        1\n",
       "52           6.9          3.1           4.9          1.5        1\n",
       "53           5.5          2.3           4.0          1.3        1\n",
       "54           6.5          2.8           4.6          1.5        1"
      ]
     },
     "execution_count": 277,
     "metadata": {},
     "output_type": "execute_result"
    }
   ],
   "source": [
    "import pandas as pd\n",
    "from sklearn.datasets import load_iris\n",
    "\n",
    "iris = load_iris()\n",
    "\n",
    "data = pd.DataFrame(data=iris.data, columns=['sepal_length', 'sepal_width', 'petal_length', 'petal_width'])\n",
    "target = pd.DataFrame(data=iris.target, columns=['Species'])\n",
    "\n",
    "df = pd.concat([data, target], axis=1)\n",
    "df = df.loc[df['Species'] !=0, :]\n",
    "\n",
    "X = np.array(df.iloc[:, :-1])\n",
    "y = np.array(df.iloc[:, -1])\n",
    "\n",
    "df.head()"
   ]
  },
  {
   "cell_type": "code",
   "execution_count": 278,
   "metadata": {},
   "outputs": [
    {
     "name": "stdout",
     "output_type": "stream",
     "text": [
      "(70, 4)\n",
      "(70,)\n"
     ]
    }
   ],
   "source": [
    "# データの分割（今回は7：3の割合）\n",
    "from sklearn.model_selection import train_test_split\n",
    "\n",
    "X_train, X_test, y_train, y_test = train_test_split(X, y, test_size=0.3, stratify=y)\n",
    "\n",
    "print(X_train.shape)\n",
    "print(y_train.shape)"
   ]
  },
  {
   "cell_type": "code",
   "execution_count": 279,
   "metadata": {},
   "outputs": [],
   "source": [
    "# 標準化処理\n",
    "from sklearn.preprocessing import StandardScaler\n",
    "\n",
    "scaler = StandardScaler()\n",
    "\n",
    "X_train_std = scaler.fit_transform(X_train)\n",
    "X_test_std = scaler.transform(X_test)"
   ]
  },
  {
   "cell_type": "code",
   "execution_count": 251,
   "metadata": {},
   "outputs": [],
   "source": [
    "# 評価指標の読み込みおよび関数化\n",
    "from sklearn.metrics import accuracy_score\n",
    "from sklearn.metrics import precision_score\n",
    "from sklearn.metrics import recall_score\n",
    "from sklearn.metrics import f1_score\n",
    "\n",
    "def get_scores(y_true, y_pred):\n",
    "    print(\"-\"*20)\n",
    "    print(\"正解率：{:.2f}\".format(accuracy_score(y_true, y_pred)))\n",
    "    print(\"適合率：{:.2f}\".format(precision_score(y_true, y_pred)))\n",
    "    print(\"再現率：{:.2f}\".format(recall_score(y_true, y_pred)))\n",
    "    print(\"F1値：{:.2f}\".format(f1_score(y_true, y_pred)))\n",
    "    print(\"-\"*20)\n",
    "    print(\"\\n\")"
   ]
  },
  {
   "cell_type": "code",
   "execution_count": 287,
   "metadata": {},
   "outputs": [
    {
     "name": "stdout",
     "output_type": "stream",
     "text": [
      "スクラッチモデルの成績\n",
      "--------------------\n",
      "正解率：0.97\n",
      "適合率：0.94\n",
      "再現率：1.00\n",
      "F1値：0.97\n",
      "--------------------\n",
      "\n",
      "\n"
     ]
    }
   ],
   "source": [
    "# スクラッチモデルの学習と推定\n",
    "scratch_logreg = ScratchLogisticRegression(num_iter=1000)\n",
    "\n",
    "scratch_logreg.fit(X_train_std, y_train, X_val=X_test_std, y_val=y_test)\n",
    "\n",
    "scratch_pred = scratch_logreg.predict(X_test_std)\n",
    "\n",
    "print(\"スクラッチモデルの成績\")\n",
    "get_scores(y_test, scratch_pred)"
   ]
  },
  {
   "cell_type": "code",
   "execution_count": 281,
   "metadata": {},
   "outputs": [
    {
     "name": "stdout",
     "output_type": "stream",
     "text": [
      "sklearnモデルの成績\n",
      "--------------------\n",
      "正解率：0.97\n",
      "適合率：0.94\n",
      "再現率：1.00\n",
      "F1値：0.97\n",
      "--------------------\n",
      "\n",
      "\n"
     ]
    }
   ],
   "source": [
    "# sklearnモデルの学習と推定\n",
    "from sklearn.linear_model import LogisticRegression\n",
    "\n",
    "sk_logreg = LogisticRegression()\n",
    "\n",
    "sk_logreg.fit(X_train_std, y_train)\n",
    "\n",
    "sk_pred = sk_logreg.predict(X_test_std)\n",
    "\n",
    "print(\"sklearnモデルの成績\")\n",
    "get_scores(y_test, sk_pred)"
   ]
  },
  {
   "cell_type": "markdown",
   "metadata": {},
   "source": [
    ">スクラッチモデルはsklearnモデルと同等の高い推定精度を示した。"
   ]
  },
  {
   "cell_type": "markdown",
   "metadata": {},
   "source": [
    "## 【問題6】学習曲線のプロット\n",
    "学習曲線を見て損失が適切に下がっているかどうか確認してください。"
   ]
  },
  {
   "cell_type": "code",
   "execution_count": 288,
   "metadata": {},
   "outputs": [
    {
     "data": {
      "image/png": "[encoded data removed]",
      "text/plain": [
       "<Figure size 432x288 with 1 Axes>"
      ]
     },
     "metadata": {
      "needs_background": "light"
     },
     "output_type": "display_data"
    }
   ],
   "source": [
    "import matplotlib.pyplot as plt\n",
    "\n",
    "%matplotlib inline\n",
    "\n",
    "plt.figure()\n",
    "\n",
    "plt.plot(np.arange(len(scratch_logreg.loss)), scratch_logreg.loss, label='train loss')\n",
    "plt.plot(np.arange(len(scratch_logreg.loss)), scratch_logreg.val_loss, label='val loss')\n",
    "plt.title(\"Scratch Model Loss\")\n",
    "plt.xlabel(\"Iteration\")\n",
    "plt.ylabel(\"Loss\")\n",
    "plt.legend()\n",
    "\n",
    "plt.show()"
   ]
  },
  {
   "cell_type": "markdown",
   "metadata": {},
   "source": [
    "## 【問題7】決定領域の可視化\n",
    "決定領域を可視化してください。"
   ]
  },
  {
   "cell_type": "markdown",
   "metadata": {},
   "source": [
    ">可視化にWeek4課題の決定領域関数を使用する。"
   ]
  },
  {
   "cell_type": "code",
   "execution_count": 115,
   "metadata": {},
   "outputs": [],
   "source": [
    "from matplotlib.colors import ListedColormap\n",
    "import matplotlib.patches as mpatches\n",
    "def decision_region(X, y, model, step=0.01, title='decision region', xlabel='xlabel',\n",
    "                    ylabel='ylabel', target_names=['versicolor', 'virginica']):\n",
    "    \"\"\"\n",
    "    2値分類を2次元の特徴量で学習したモデルの決定領域を描く。\n",
    "    背景の色が学習したモデルによる推定値から描画される。\n",
    "    散布図の点は訓練データまたは検証データである。\n",
    "\n",
    "    Parameters\n",
    "    ----------------\n",
    "    X : ndarray, shape(n_samples, 2)\n",
    "        特徴量\n",
    "    y : ndarray, shape(n_samples,)\n",
    "        ラベル\n",
    "    model : object\n",
    "        学習したモデルのインスンタスを入れる\n",
    "    step : float, (default : 0.1)\n",
    "        推定値を計算する間隔を設定する\n",
    "    title : str\n",
    "        グラフのタイトルの文章を与える\n",
    "    xlabel, ylabel : str\n",
    "        軸ラベルの文章を与える\n",
    "    target_names= : list of str\n",
    "        凡例の一覧を与える\n",
    "    \"\"\"\n",
    "    # setting\n",
    "    scatter_color = ['red', 'blue']\n",
    "    contourf_color = ['pink', 'skyblue']\n",
    "    n_class = 2\n",
    "    # pred\n",
    "    mesh_f0, mesh_f1  = np.meshgrid(np.arange(np.min(X[:,0])-0.5, np.max(X[:,0])+0.5, step), np.arange(np.min(X[:,1])-0.5, np.max(X[:,1])+0.5, step))\n",
    "    mesh = np.c_[np.ravel(mesh_f0),np.ravel(mesh_f1)]\n",
    "    y_pred = model.predict(mesh).reshape(mesh_f0.shape)\n",
    "    # plot\n",
    "    plt.title(title)\n",
    "    plt.xlabel(xlabel)\n",
    "    plt.ylabel(ylabel)\n",
    "    plt.contourf(mesh_f0, mesh_f1, y_pred, n_class-1, cmap=ListedColormap(contourf_color))\n",
    "    plt.contour(mesh_f0, mesh_f1, y_pred, n_class-1, colors='y', linewidths=3, alpha=0.5)\n",
    "    for i, target in enumerate(set(y)):\n",
    "        plt.scatter(X[y==target][:, 0], X[y==target][:, 1], s=80, color=scatter_color[i], label=target_names[i], marker='o')\n",
    "    patches = [mpatches.Patch(color=scatter_color[i], label=target_names[i]) for i in range(n_class)]\n",
    "    plt.legend(handles=patches)\n",
    "    plt.legend()\n",
    "    plt.show()"
   ]
  },
  {
   "cell_type": "code",
   "execution_count": 282,
   "metadata": {},
   "outputs": [
    {
     "data": {
      "image/png": "[encoded data removed]",
      "text/plain": [
       "<Figure size 432x288 with 1 Axes>"
      ]
     },
     "metadata": {
      "needs_background": "light"
     },
     "output_type": "display_data"
    },
    {
     "data": {
      "image/png": "[encoded data removed]",
      "text/plain": [
       "<Figure size 432x288 with 1 Axes>"
      ]
     },
     "metadata": {
      "needs_background": "light"
     },
     "output_type": "display_data"
    }
   ],
   "source": [
    "# sepal_lengthとsepal_widthを可視化\n",
    "X_plot = X_train_std[:, :2]\n",
    "\n",
    "scratch_plot = ScratchLogisticRegression()\n",
    "scratch_plot.fit(X_plot, y_train)\n",
    "\n",
    "sk_plot = LogisticRegression()\n",
    "sk_plot.fit(X_plot, y_train)\n",
    "\n",
    "decision_region(X_plot, y_train, scratch_plot, step=0.01, title='Decision Region of Scratch Model',\n",
    "                xlabel='sepal_length', ylabel='sepal_width')\n",
    "decision_region(X_plot, y_train, sk_plot, step=0.01, title='Decision Region of sklearn Model',\n",
    "                xlabel='sepal_length', ylabel='sepal_width')"
   ]
  },
  {
   "cell_type": "code",
   "execution_count": 258,
   "metadata": {},
   "outputs": [
    {
     "data": {
      "image/png": "[encoded data removed]",
      "text/plain": [
       "<Figure size 432x288 with 1 Axes>"
      ]
     },
     "metadata": {
      "needs_background": "light"
     },
     "output_type": "display_data"
    },
    {
     "data": {
      "image/png": "[encoded data removed]",
      "text/plain": [
       "<Figure size 432x288 with 1 Axes>"
      ]
     },
     "metadata": {
      "needs_background": "light"
     },
     "output_type": "display_data"
    }
   ],
   "source": [
    "# sepal_lengthとpetal_lengthを可視化\n",
    "X_plot = X_train_std[:, [0,2]]\n",
    "\n",
    "scratch_plot = ScratchLogisticRegression()\n",
    "scratch_plot.fit(X_plot, y_train)\n",
    "\n",
    "sk_plot = LogisticRegression()\n",
    "sk_plot.fit(X_plot, y_train)\n",
    "\n",
    "decision_region(X_plot, y_train, scratch_plot, step=0.01, title='Decision Region of Scratch Model',\n",
    "                xlabel='sepal_length', ylabel='petal_length')\n",
    "decision_region(X_plot, y_train, sk_plot, step=0.01, title='Decision Region of sklearn Model',\n",
    "                xlabel='sepal_length', ylabel='petal_length')"
   ]
  },
  {
   "cell_type": "markdown",
   "metadata": {},
   "source": [
    ">二種類の特徴量の組み合わせを可視化したが、いずれもスクラッチモデルの推定はsklearnモデル同様に良好。上手く学習できたと思われる。"
   ]
  },
  {
   "cell_type": "markdown",
   "metadata": {},
   "source": [
    "## 【問題8】（アドバンス課題）重みの保存\n",
    "検証が容易になるように、学習した重みを保存および読み込みができるようにしましょう。pickleモジュールやNumPyのnp.savezを利用します。"
   ]
  },
  {
   "cell_type": "code",
   "execution_count": 137,
   "metadata": {},
   "outputs": [
    {
     "data": {
      "text/plain": [
       "array([ 0.00406786,  0.07335182, -0.11095529,  0.74971909,  0.92481155])"
      ]
     },
     "execution_count": 137,
     "metadata": {},
     "output_type": "execute_result"
    }
   ],
   "source": [
    "import pickle\n",
    "\n",
    "# パラメータをparams変数として保存\n",
    "params = scratch_logreg.coef_\n",
    "\n",
    "# pickle objectにparamsを保存\n",
    "with open(\"params.pickle\", \"wb\") as f:\n",
    "    pickle.dump(params, f)\n",
    "    \n",
    "params"
   ]
  },
  {
   "cell_type": "code",
   "execution_count": 138,
   "metadata": {},
   "outputs": [
    {
     "data": {
      "text/plain": [
       "array([ 0.00406786,  0.07335182, -0.11095529,  0.74971909,  0.92481155])"
      ]
     },
     "execution_count": 138,
     "metadata": {},
     "output_type": "execute_result"
    }
   ],
   "source": [
    "# 保存されたpickle objectを新たな変数params_loadに代入\n",
    "with open(\"params.pickle\", \"rb\") as f:\n",
    "    params_load = pickle.load(f)\n",
    "    \n",
    "params_load"
   ]
  },
  {
   "cell_type": "code",
   "execution_count": 264,
   "metadata": {},
   "outputs": [
    {
     "name": "stdout",
     "output_type": "stream",
     "text": [
      "スクラッチモデルの成績\n",
      "--------------------\n",
      "正解率：0.97\n",
      "適合率：0.94\n",
      "再現率：1.00\n",
      "F1値：0.97\n"
     ]
    }
   ],
   "source": [
    "# 保存されたパラメータを使用して未学習のモデルで推定\n",
    "logreg_pickle = ScratchLogisticRegression(coef=params_load, labels=np.array((1,2)))\n",
    "\n",
    "X_train, X_test, y_train, y_test = train_test_split(X, y, test_size=0.3, stratify=y)\n",
    "X_train_std = scaler.fit_transform(X_train)\n",
    "X_test_std = scaler.transform(X_test)\n",
    "\n",
    "scratch_pred = logreg_pickle.predict(X_test_std)\n",
    "\n",
    "print(\"スクラッチモデルの成績\")\n",
    "print(\"-\"*20)\n",
    "print(\"正解率：{:.2f}\".format(accuracy_score(y_test, scratch_pred)))\n",
    "print(\"適合率：{:.2f}\".format(precision_score(y_test, scratch_pred)))\n",
    "print(\"再現率：{:.2f}\".format(recall_score(y_test, scratch_pred)))\n",
    "print(\"F1値：{:.2f}\".format(f1_score(y_test, scratch_pred)))"
   ]
  },
  {
   "cell_type": "code",
   "execution_count": null,
   "metadata": {},
   "outputs": [],
   "source": []
  }
 ],
 "metadata": {
  "kernelspec": {
   "display_name": "Python 3",
   "language": "python",
   "name": "python3"
  },
  "language_info": {
   "codemirror_mode": {
    "name": "ipython",
    "version": 3
   },
   "file_extension": ".py",
   "mimetype": "text/x-python",
   "name": "python",
   "nbconvert_exporter": "python",
   "pygments_lexer": "ipython3",
   "version": "3.7.7"
  }
 },
 "nbformat": 4,
 "nbformat_minor": 4
}
