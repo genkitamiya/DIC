{
 "cells": [
  {
   "cell_type": "markdown",
   "metadata": {},
   "source": [
    "# Sprint セグメンテーション1\n",
    "KaggleのTGS Salt Identification Challengeのデータセットを使用し、セグメンテーションを行います。<br>\n",
    "<br>\n",
    "[TGS Salt Identification Challenge | Kaggle](https://www.kaggle.com/c/tgs-salt-identification-challenge)<br>\n",
    "<br>\n",
    "セグメンテーション手法としてU-Net[1]を使います。<br>\n",
    "<br>\n",
    "[1]O.Ronneberger, P.Fischer, T.Brox. U-Net: Convolutional Networks for Biomedical Image Segmentation. Medical Image Computing and Computer-Assisted Intervention (MICCAI), Springer, LNCS, Vol.9351: 234–241, 2015<br>\n",
    "<br>\n",
    "[https://arxiv.org/pdf/1505.04597.pdf](https://arxiv.org/pdf/1505.04597.pdf)"
   ]
  },
  {
   "cell_type": "markdown",
   "metadata": {},
   "source": [
    "## 【問題1】学習・推定\n",
    "以下のKeras実装を使用して学習・推定を行ってください。<br>\n",
    "<br>\n",
    "[zhixuhao/unet: unet for image segmentation](https://github.com/zhixuhao/unet)<br>\n",
    "<br>\n",
    "**《GPU環境での学習》**<br>\n",
    "<br>\n",
    "大規模なデータセット、大きなモデルになるため、GPUを使用する必要があります。<br>\n",
    "<br>\n",
    "**《新たなデータセットの適用》**<br>\n",
    "<br>\n",
    "公開されている実装で用意されたものとは異なるデータセットを入力するための準備が必要です。<br>"
   ]
  },
  {
   "cell_type": "code",
   "execution_count": null,
   "metadata": {},
   "outputs": [],
   "source": []
  },
  {
   "cell_type": "markdown",
   "metadata": {},
   "source": [
    "## 【問題2】コードリーディング\n",
    "論文[1]に目を通した上で、上記実装のコードリーディングを行ってください。"
   ]
  },
  {
   "cell_type": "code",
   "execution_count": null,
   "metadata": {},
   "outputs": [],
   "source": []
  }
 ],
 "metadata": {
  "kernelspec": {
   "display_name": "Python 3",
   "language": "python",
   "name": "python3"
  },
  "language_info": {
   "codemirror_mode": {
    "name": "ipython",
    "version": 3
   },
   "file_extension": ".py",
   "mimetype": "text/x-python",
   "name": "python",
   "nbconvert_exporter": "python",
   "pygments_lexer": "ipython3",
   "version": "3.7.7"
  }
 },
 "nbformat": 4,
 "nbformat_minor": 4
}
