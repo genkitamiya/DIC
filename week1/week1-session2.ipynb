{
 "cells": [
  {
   "cell_type": "markdown",
   "metadata": {},
   "source": [
    "# Week1授業課題2 何回折ったら富士山を超えるか問題\n",
    "n回折った紙の厚さ$t_{n}$は以下のように表せます。<br>\n",
    "\n",
    "$$\n",
    "t_{n} = t_{0}×2^{n}\n",
    "$$\n",
    "<br>\n",
    "\n",
    "折る前の紙の厚さ$t_{0}$は**0.00008m**とします。一般的なコピー用紙の厚さです。"
   ]
  },
  {
   "cell_type": "markdown",
   "metadata": {},
   "source": [
    "## 【問題1】富士山を超える最小の折る回数\n",
    "厚さが「富士山(3776m)」を超えるのは何回紙を折った時か計算するプログラムを作成してください。"
   ]
  },
  {
   "cell_type": "code",
   "execution_count": 2,
   "metadata": {},
   "outputs": [
    {
     "name": "stdout",
     "output_type": "stream",
     "text": [
      "紙を26回折ったら厚さが富士山（3776m）を超える。\n"
     ]
    }
   ],
   "source": [
    "THICKNESS_INIT = 0.00008  # メートル\n",
    "HEIGHT_MT_FUJI = 3776  # メートル\n",
    "\n",
    "thickness = THICKNESS_INIT\n",
    "n_folds = 0\n",
    "\n",
    "while thickness < HEIGHT_MT_FUJI:\n",
    "    thickness *= 2\n",
    "    n_folds += 1\n",
    "\n",
    "print(\"紙を{}回折ったら厚さが富士山（3776m）を超える。\".format(n_folds))"
   ]
  },
  {
   "cell_type": "markdown",
   "metadata": {},
   "source": [
    "## 【問題2】任意の厚さに対応した関数を作成\n",
    "距離を入力すると、何回折った時に超えるかを出力する関数を作成してください。引数として、折る前の厚さ$t_{0}$も設定できるようにしましょう。<br>\n",
    "\n",
    "<br>\n",
    "\n",
    "この関数を利用して、「最も近い太陽以外の恒星」に到達するには紙を何回折る必要があるか計算してください。「最も近い太陽以外の恒星」の距離を調査してください。"
   ]
  },
  {
   "cell_type": "markdown",
   "metadata": {},
   "source": [
    ">地球から最も近い恒星はプロキシマ・ケンタウリ（4.244光年）である。[ウィキペディア](https://ja.wikipedia.org/wiki/プロキシマ・ケンタウリ)<br>\n",
    ">また、1光年 = 9,460,730,472,580,800 m。"
   ]
  },
  {
   "cell_type": "code",
   "execution_count": 11,
   "metadata": {},
   "outputs": [
    {
     "name": "stdout",
     "output_type": "stream",
     "text": [
      "紙を67回折ったら厚さがプロキシマ・センタウリ（4.244光年）までの距離を超える。\n"
     ]
    }
   ],
   "source": [
    "def calc_folds(distance):\n",
    "    THICKNESS_INIT = 0.00008\n",
    "\n",
    "    thickness = THICKNESS_INIT\n",
    "    n_folds = 0\n",
    "\n",
    "    while thickness < distance:\n",
    "        thickness *= 2\n",
    "        n_folds += 1\n",
    "\n",
    "    return n_folds\n",
    "\n",
    "\n",
    "DIST_CENTAURI = 9460730472580800\n",
    "\n",
    "folds_centauri = calc_folds(DIST_CENTAURI)\n",
    "\n",
    "print(\"紙を{}回折ったら厚さがプロキシマ・センタウリ（4.244光年）までの距離を超える。\".format(folds_centauri))"
   ]
  },
  {
   "cell_type": "markdown",
   "metadata": {},
   "source": [
    "## 【問題3】必要な紙の長さ\n",
    "実際のところ身近にある紙は43回はおろか10回も折れません。しかし、大きな紙ほどたくさん折ることができ、トイレットペーパーのような長い紙を一方向に折ることを考えた時の折れる回数を求める公式が存在します。\n",
    "\n",
    "厚さ$t_{0}$の紙をn回折るために必要な紙の長さLは以下の公式で求まります。\n",
    " \n",
    " $$\n",
    " L = \\frac{\\pi t_{0}}{6}(2^n + 4)(2^n - 1)\n",
    " $$\n",
    " \n",
    "この公式を利用して、実際に紙を折り任意の厚さに到達するために必要な紙の長さを求める関数を作成してください。<br>\n",
    "<br>\n",
    "そしてこれを使って「月」「富士山」「最も近い太陽以外の恒星」に届くために必要な紙の長さを求めてください。"
   ]
  },
  {
   "cell_type": "code",
   "execution_count": 10,
   "metadata": {},
   "outputs": [
    {
     "name": "stdout",
     "output_type": "stream",
     "text": [
      "月に届くために必要な紙の長さ：3.24e+21 m\n",
      "富士山に届くために必要な紙の長さ：1.89e+11 m\n",
      "最も近い太陽以外の恒星に届くために必要な紙の長さ：9.12e+35 m\n"
     ]
    }
   ],
   "source": [
    "import math\n",
    "\n",
    "\n",
    "def calc_paperlen(distance):\n",
    "    THICKNESS_INIT = 0.00008\n",
    "\n",
    "    thickness = THICKNESS_INIT\n",
    "    n_folds = 0\n",
    "\n",
    "    while thickness < distance:\n",
    "        thickness *= 2\n",
    "        n_folds += 1\n",
    "\n",
    "    length = (math.pi*THICKNESS_INIT)/6 * (2**n_folds + 4) * (2**n_folds - 1)\n",
    "\n",
    "    return length\n",
    "\n",
    "\n",
    "# 月に届くために必要な紙の長さ\n",
    "DIST_MOON = 384400000\n",
    "paperlen_moon = calc_paperlen(DIST_MOON)\n",
    "print(\"月に届くために必要な紙の長さ：{:.3g} m\".format(paperlen_moon))\n",
    "\n",
    "# 富士山に届くために必要な紙の長さ\n",
    "HEIGHT_MT_FUJI = 3776\n",
    "paperlen_fuji = calc_paperlen(HEIGHT_MT_FUJI)\n",
    "print(\"富士山に届くために必要な紙の長さ：{:.3g} m\".format(paperlen_fuji))\n",
    "\n",
    "# 最も近い太陽以外の恒星に届くために必要な紙の長さ\n",
    "DIST_CENTAURI = 9460730472580800\n",
    "paperlen_centauri = calc_paperlen(DIST_CENTAURI)\n",
    "print(\"最も近い太陽以外の恒星に届くために必要な紙の長さ：{:.3g} m\".format(paperlen_centauri))"
   ]
  },
  {
   "cell_type": "code",
   "execution_count": null,
   "metadata": {},
   "outputs": [],
   "source": []
  }
 ],
 "metadata": {
  "kernelspec": {
   "display_name": "Python 3",
   "language": "python",
   "name": "python3"
  },
  "language_info": {
   "codemirror_mode": {
    "name": "ipython",
    "version": 3
   },
   "file_extension": ".py",
   "mimetype": "text/x-python",
   "name": "python",
   "nbconvert_exporter": "python",
   "pygments_lexer": "ipython3",
   "version": "3.7.7"
  }
 },
 "nbformat": 4,
 "nbformat_minor": 2
}
