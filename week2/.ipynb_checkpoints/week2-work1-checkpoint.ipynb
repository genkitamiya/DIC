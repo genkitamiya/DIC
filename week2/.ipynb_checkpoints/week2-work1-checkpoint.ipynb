{
 "cells": [
  {
   "cell_type": "markdown",
   "metadata": {},
   "source": [
    "# Week2授業前課題1 小麦とチェス盤問題\n",
    "\n",
    "曽呂利新左衛門の米の逸話に似たものとして、小麦とチェス盤の話があります。これを題材に多次元配列を扱うための数値計算ライブラリ**NumPy**の使い方に慣れていきます。\n",
    "<br>\n",
    ">If a chessboard were to have wheat placed upon each square such that one grain were placed on the first square, two on the second, four on the third, and so on (doubling the number of grains on each subsequent square), how many grains of wheat would be on the chessboard at the finish?\n",
    "\n",
    "[Wheat and chessboard problem - Wikipedia](https://en.wikipedia.org/wiki/Wheat_and_chessboard_problem)  \\\n",
    "<br>\n",
    "8×8マスのチェス盤の上に、小麦の粒を1, 2, 4と順番に置いていくと最終的な小麦の数はどのようになるかという問題です。"
   ]
  },
  {
   "cell_type": "markdown",
   "metadata": {},
   "source": [
    "まずは4マスの板に小麦の粒を並べていくことを考えます。配列（リスト）の1つの要素を1つのマスに見立てています。\n",
    "\n",
    "Pythonのリストとfor文を使い次のように作ることができます。  \\\n",
    "<br>\n",
    "**《サンプルコード》**  \n",
    "```python\n",
    "n_squares = 4\n",
    "small_board_list = [1]\n",
    "for _ in range(n_squares - 1):\n",
    "    small_board_list.append(2*small_board_list[-1])\n",
    "print(\"4マスの板に小麦を並べる（リスト）：{}\".format(small_board_list))\n",
    "```\n",
    "<br>\n",
    "このリストにnp.array()を使うことで、ndarrayを作成することができます。\n",
    "<br>\n",
    "<br>\n",
    "\n",
    "```python\n",
    "import numpy as np\n",
    "small_board_ndarray = np.array(small_board_list)\n",
    "print(\"4マスの板に小麦を並べる（ndarray）：{}\".format(small_board_ndarray))\n",
    "```"
   ]
  },
  {
   "cell_type": "markdown",
   "metadata": {},
   "source": [
    "## 【問題1】2×2マスのチェス盤の小麦の数\n",
    "2×2マスのチェス盤をndarrayによって表現し、各マスの小麦の数を計算してください。左上のマスに小麦を1つ置いた後、その右が2つ、左下が4つ、右下が8つという風に進みます。\n",
    "<br>  \n",
    "サンプルコードで作成したndarrayのshapeの変形を行ってください。"
   ]
  },
  {
   "cell_type": "code",
   "execution_count": 21,
   "metadata": {},
   "outputs": [
    {
     "name": "stdout",
     "output_type": "stream",
     "text": [
      "4マスの板に小麦を並べる（リスト）：[1, 2, 4, 8]\n",
      "4マスの板に小麦を並べる（ndarray）：[1 2 4 8]\n",
      "変形後のndarrayのshape：(2, 2)\n"
     ]
    }
   ],
   "source": [
    "n_squares = 4\n",
    "small_board_list = [1]\n",
    "for _ in range(n_squares - 1):\n",
    "    small_board_list.append(2*small_board_list[-1])\n",
    "print(\"4マスの板に小麦を並べる（リスト）：{}\".format(small_board_list))\n",
    "\n",
    "import numpy as np\n",
    "small_board_ndarray = np.array(small_board_list)\n",
    "print(\"4マスの板に小麦を並べる（ndarray）：{}\".format(small_board_ndarray))\n",
    "\n",
    "reshape_small_board_ndarray = small_board_ndarray.reshape(2,2)\n",
    "print(\"変形後のndarrayのshape：{}\".format(reshape_small_board_ndarray.shape))"
   ]
  },
  {
   "cell_type": "markdown",
   "metadata": {},
   "source": [
    ">**メモ**\n",
    ">\n",
    ">PythonのreshapeメソッドおよびNumpyのreshape関数はいずれも非破壊的なため、返り値を与えなければ、変数は変わらない。  \\\n",
    "><br>  \\\n",
    ">例：\n",
    ">\n",
    ">```python\n",
    "small_board_ndarray = np.array(small_board_list)\n",
    "small_board_ndarray.reshape(2,2)\n",
    "np.reshape(small_board_ndarray,[2,2])\n",
    ">\n",
    ">print(small_board_ndarray.shape) #out: (4,)\n",
    ">```\n",
    "><br>\n",
    ">逆に、Pythonのappendメソッドは破壊的であるが、Numpyのappend関数は非破壊的である。\n",
    ">\n",
    ">[参考リンク](https://teratail.com/questions/178810)"
   ]
  },
  {
   "cell_type": "markdown",
   "metadata": {},
   "source": [
    "## 【問題2】n×mマスへの拡張\n",
    "n×mマスのチェス盤の小麦の数を記したndarrayを返す関数を作成してください。そして、この関数を使い8×8マスのチェス盤の小麦の数を求めてください。"
   ]
  },
  {
   "cell_type": "code",
   "execution_count": 229,
   "metadata": {},
   "outputs": [
    {
     "name": "stdout",
     "output_type": "stream",
     "text": [
      "64マスの板に小麦を並べる（ndarray）：\n",
      "[[                  1                   2                   4\n",
      "                    8                  16                  32\n",
      "                   64                 128]\n",
      " [                256                 512                1024\n",
      "                 2048                4096                8192\n",
      "                16384               32768]\n",
      " [              65536              131072              262144\n",
      "               524288             1048576             2097152\n",
      "              4194304             8388608]\n",
      " [           16777216            33554432            67108864\n",
      "            134217728           268435456           536870912\n",
      "           1073741824          2147483648]\n",
      " [         4294967296          8589934592         17179869184\n",
      "          34359738368         68719476736        137438953472\n",
      "         274877906944        549755813888]\n",
      " [      1099511627776       2199023255552       4398046511104\n",
      "        8796093022208      17592186044416      35184372088832\n",
      "       70368744177664     140737488355328]\n",
      " [    281474976710656     562949953421312    1125899906842624\n",
      "     2251799813685248    4503599627370496    9007199254740992\n",
      "    18014398509481984   36028797018963968]\n",
      " [  72057594037927936  144115188075855872  288230376151711744\n",
      "   576460752303423488 1152921504606846976 2305843009213693952\n",
      "  4611686018427387904 9223372036854775808]]\n"
     ]
    }
   ],
   "source": [
    "def make_chessboard(n,m):\n",
    "    squares = n*m\n",
    "    wheat_list = np.exp2(np.arange(0,squares)).astype(np.uint64)\n",
    "    chessboard = np.reshape(wheat_list,[n,m])\n",
    "    total = sum(wheat_list)\n",
    "    \n",
    "    return chessboard, total\n",
    "\n",
    "ROWS = 8\n",
    "COLUMNS = 8\n",
    "\n",
    "chessboard_nxm, total_nxm = make_chessboard(ROWS, COLUMNS)\n",
    "\n",
    "print(\"{}マスの板に小麦を並べる（ndarray）：\\n{}\".format(ROWS*COLUMNS,chessboard_nxm))"
   ]
  },
  {
   "cell_type": "markdown",
   "metadata": {},
   "source": [
    ">**メモ**\n",
    ">\n",
    ">`np.exp2().astype(int)`を使用してチェス盤arrayをint型で作成した際、なぜか$2^{64}$の値が負数となり、$2^{63}$以降の計算も全ておかしくなる。\\\n",
    "><br>  \n",
    ">\n",
    ">```python\n",
    ">def make_chessboard(n,m):\n",
    ">    spaces = n*m\n",
    ">    wheat_list = np.exp2(np.arange(0,spaces)).astype(int)\n",
    ">    chessboard = np.reshape(wheat_list,[n,m])\n",
    ">    \n",
    ">    return chessboard\n",
    ">\n",
    ">x = make_chessboard(10,10)\n",
    ">print(x[6])\n",
    ">\n",
    ">#out: [ 1152921504606846976  2305843009213693952  4611686018427387904 -9223372036854775808 -9223372036854775808 -9223372036854775808 -9223372036854775808 -9223372036854775808 -9223372036854775808 -9223372036854775808]\n",
    ">```\n",
    ">\n",
    ">*追記：ndarrayのint型は64bitの整数型のため、$-2^{64}$~$2^{63}$までの整数しか扱えない。そのため、$2^{64}$は扱い範囲外となり、負数になる。<br>\n",
    ">この制約は高速で計算を行うndarrayにのみ存在し、Pythonでは問題なく$2^{64}$もint型で扱える。\n",
    ">ndarray型の解決策として、datatypeを`np.uint64`に変換すべし。*"
   ]
  },
  {
   "cell_type": "markdown",
   "metadata": {},
   "source": [
    "## 【問題3】小麦の数の合計\n",
    "8×8マスのチェス盤の小麦の数の合計を求めてください。また、各列の平均を求め、それを棒グラフで可視化してください。"
   ]
  },
  {
   "cell_type": "code",
   "execution_count": 179,
   "metadata": {},
   "outputs": [
    {
     "name": "stdout",
     "output_type": "stream",
     "text": [
      "8x8マスのチェス盤の小麦の合計数は18,446,744,073,709,551,616個です。\n"
     ]
    },
    {
     "data": {
      "image/png": "[encoded data removed]",
      "text/plain": [
       "<Figure size 432x288 with 1 Axes>"
      ]
     },
     "metadata": {
      "needs_background": "light"
     },
     "output_type": "display_data"
    }
   ],
   "source": [
    "print(\"{}x{}マスのチェス盤の小麦の合計数は{:,.0f}個です。\".format(ROWS,COLUMNS,total_nxm))\n",
    "\n",
    "#各列の平均を求める\n",
    "n_columns = np.arange(1,COLUMNS+1)\n",
    "column_avg = np.average(chessboard_nxm,axis=0)\n",
    "\n",
    "import matplotlib.pyplot as plt\n",
    "%matplotlib inline\n",
    "plt.xlabel(\"Column\",size=12)\n",
    "plt.ylabel(\"Number\",size=12)\n",
    "plt.title(\"Average number of wheat on each chess column\",x=0.5,y=1.1,fontsize=14)\n",
    "plt.bar(n_columns, column_avg)\n",
    "plt.xticks(n_columns)\n",
    "plt.grid(axis='y',ls='--',alpha=0.5)\n",
    "plt.show()"
   ]
  },
  {
   "cell_type": "markdown",
   "metadata": {},
   "source": [
    "## 【問題4】小麦の数のヒートマップ\n",
    "8×8マスのチェス盤の小麦の数をヒートマップとして可視化してください。"
   ]
  },
  {
   "cell_type": "code",
   "execution_count": 184,
   "metadata": {},
   "outputs": [
    {
     "data": {
      "image/png": "[encoded data removed]",
      "text/plain": [
       "<Figure size 432x288 with 1 Axes>"
      ]
     },
     "metadata": {
      "needs_background": "light"
     },
     "output_type": "display_data"
    },
    {
     "data": {
      "text/plain": [
       "'\\n%matplotlib inline\\nplt.xlabel(\"column\",size=12)\\nplt.ylabel(\"row\",size=12)\\nplt.xticks(n_columns)\\nplt.yticks(n_rows)\\nplt.title(\"Heatmap\",size=14)\\nplt.imshow(chessboard_nxm)\\nplt.show()\\n'"
      ]
     },
     "execution_count": 184,
     "metadata": {},
     "output_type": "execute_result"
    }
   ],
   "source": [
    "\n",
    "n_rows = np.arange(1,ROWS+1)\n",
    "\n",
    "%matplotlib inline\n",
    "plt.xlabel(\"column\",size=12)\n",
    "plt.ylabel(\"row\",size=12)\n",
    "plt.xticks(n_columns)\n",
    "plt.yticks(n_rows)\n",
    "plt.title(\"Heatmap\",size=14)\n",
    "plt.pcolor(chessboard_nxm)\n",
    "plt.show()"
   ]
  },
  {
   "cell_type": "markdown",
   "metadata": {},
   "source": [
    ">**メモ**\n",
    ">\n",
    ">plt.pcolorだと、tickが各値の中央にこない。中央にalignするには、plt.imshowまたはseabornのsns.heatmapの使用が望まれる。"
   ]
  },
  {
   "cell_type": "markdown",
   "metadata": {},
   "source": [
    "## 【問題5】後半は前半の何倍か\n",
    "チェス盤の後半にある小麦の数は前半にある小麦の数の何倍かを求めてください。前半とは配列の0から3行目、後半は4から7行目です。"
   ]
  },
  {
   "cell_type": "code",
   "execution_count": 209,
   "metadata": {},
   "outputs": [
    {
     "name": "stdout",
     "output_type": "stream",
     "text": [
      "チェス盤の後半にある小麦の数は前半にある小麦の数の1.09951e+12倍です。\n"
     ]
    }
   ],
   "source": [
    "#チェス盤の前半・後半行を指定\n",
    "#合計数を計算する際に、行数をindexするため、int関数でfloat値が出力されることを回避\n",
    "#行数が奇数の場合、後半行数が1行多くなる\n",
    "n_rows_half = int(chessboard_nxm.shape[0]/2)\n",
    "\n",
    "sum_half1 = np.sum(chessboard_nxm[:n_rows_half-1])\n",
    "sum_half2 = np.sum(chessboard_nxm[n_rows_half:])\n",
    "\n",
    "ratio = sum_half2/sum_half1\n",
    "\n",
    "print(\"チェス盤の後半にある小麦の数は前半にある小麦の数の{:g}倍です。\".format(ratio))"
   ]
  },
  {
   "cell_type": "markdown",
   "metadata": {},
   "source": [
    "## 【問題6】他の計算方法によるn×mマスへの拡張\n",
    "問題2と同様の「n×mマスのチェス盤の小麦の数を記したndarrayを返す関数」を、`np.append()`を使ったものと、ブロードキャストを使ったもので新たに作成してください。<br>\n",
    "<br>\n",
    "それらの関数を使い8×8マスのチェス盤の小麦の数を再び求めてください。\n"
   ]
  },
  {
   "cell_type": "code",
   "execution_count": 232,
   "metadata": {},
   "outputs": [
    {
     "name": "stdout",
     "output_type": "stream",
     "text": [
      "ブロードキャストを使用した関数のチェス盤：\n",
      "[[                  1                   2                   4\n",
      "                    8                  16                  32\n",
      "                   64                 128]\n",
      " [                256                 512                1024\n",
      "                 2048                4096                8192\n",
      "                16384               32768]\n",
      " [              65536              131072              262144\n",
      "               524288             1048576             2097152\n",
      "              4194304             8388608]\n",
      " [           16777216            33554432            67108864\n",
      "            134217728           268435456           536870912\n",
      "           1073741824          2147483648]\n",
      " [         4294967296          8589934592         17179869184\n",
      "          34359738368         68719476736        137438953472\n",
      "         274877906944        549755813888]\n",
      " [      1099511627776       2199023255552       4398046511104\n",
      "        8796093022208      17592186044416      35184372088832\n",
      "       70368744177664     140737488355328]\n",
      " [    281474976710656     562949953421312    1125899906842624\n",
      "     2251799813685248    4503599627370496    9007199254740992\n",
      "    18014398509481984   36028797018963968]\n",
      " [  72057594037927936  144115188075855872  288230376151711744\n",
      "   576460752303423488 1152921504606846976 2305843009213693952\n",
      "  4611686018427387904 9223372036854775808]]\n",
      "for文を使用した関数のチェス盤：\n",
      "[[1.00000000e+00 2.00000000e+00 4.00000000e+00 8.00000000e+00\n",
      "  1.60000000e+01 3.20000000e+01 6.40000000e+01 1.28000000e+02]\n",
      " [2.56000000e+02 5.12000000e+02 1.02400000e+03 2.04800000e+03\n",
      "  4.09600000e+03 8.19200000e+03 1.63840000e+04 3.27680000e+04]\n",
      " [6.55360000e+04 1.31072000e+05 2.62144000e+05 5.24288000e+05\n",
      "  1.04857600e+06 2.09715200e+06 4.19430400e+06 8.38860800e+06]\n",
      " [1.67772160e+07 3.35544320e+07 6.71088640e+07 1.34217728e+08\n",
      "  2.68435456e+08 5.36870912e+08 1.07374182e+09 2.14748365e+09]\n",
      " [4.29496730e+09 8.58993459e+09 1.71798692e+10 3.43597384e+10\n",
      "  6.87194767e+10 1.37438953e+11 2.74877907e+11 5.49755814e+11]\n",
      " [1.09951163e+12 2.19902326e+12 4.39804651e+12 8.79609302e+12\n",
      "  1.75921860e+13 3.51843721e+13 7.03687442e+13 1.40737488e+14]\n",
      " [2.81474977e+14 5.62949953e+14 1.12589991e+15 2.25179981e+15\n",
      "  4.50359963e+15 9.00719925e+15 1.80143985e+16 3.60287970e+16]\n",
      " [7.20575940e+16 1.44115188e+17 2.88230376e+17 5.76460752e+17\n",
      "  1.15292150e+18 2.30584301e+18 4.61168602e+18 9.22337204e+18]]\n",
      "np.appendを使用した関数のチェス盤：\n",
      "[[                  1                   2                   4\n",
      "                    8                  16                  32\n",
      "                   64                 128]\n",
      " [                256                 512                1024\n",
      "                 2048                4096                8192\n",
      "                16384               32768]\n",
      " [              65536              131072              262144\n",
      "               524288             1048576             2097152\n",
      "              4194304             8388608]\n",
      " [           16777216            33554432            67108864\n",
      "            134217728           268435456           536870912\n",
      "           1073741824          2147483648]\n",
      " [         4294967296          8589934592         17179869184\n",
      "          34359738368         68719476736        137438953472\n",
      "         274877906944        549755813888]\n",
      " [      1099511627776       2199023255552       4398046511104\n",
      "        8796093022208      17592186044416      35184372088832\n",
      "       70368744177664     140737488355328]\n",
      " [    281474976710656     562949953421312    1125899906842624\n",
      "     2251799813685248    4503599627370496    9007199254740992\n",
      "    18014398509481984   36028797018963968]\n",
      " [  72057594037927936  144115188075855872  288230376151711744\n",
      "   576460752303423488 1152921504606846976 2305843009213693952\n",
      "  4611686018427387904 9223372036854775808]]\n"
     ]
    }
   ],
   "source": [
    "#ブロードキャストを使用した関数は問題２で作成したため、残り二つの方法で作成した関数を下に記す。\n",
    "\n",
    "#for文を使用した関数\n",
    "def make_chessboard_for(n,m):\n",
    "    squares = n*m\n",
    "    board_list = [1]\n",
    "    \n",
    "    for _ in range(squares - 1):\n",
    "        board_list.append(2*board_list[-1])\n",
    "        \n",
    "    board_ndarray = np.array(board_list)\n",
    "    chessboard = np.reshape(board_ndarray,[n,m])\n",
    "    \n",
    "    total = sum(board_ndarray)\n",
    "    \n",
    "    return chessboard, total\n",
    "\n",
    "#np.appendを使用した関数\n",
    "def make_chessboard_append(n,m):\n",
    "    squares = n*m\n",
    "    board_ndarray = np.array([1])\n",
    "    \n",
    "    for _ in range(squares - 1):\n",
    "        board_ndarray = np.append(board_ndarray, 2*board_ndarray[-1]).astype(np.uint64)\n",
    "    \n",
    "    chessboard = np.reshape(board_ndarray,[n,m])\n",
    "    \n",
    "    total = sum(board_ndarray)\n",
    "    \n",
    "    return chessboard, total\n",
    "\n",
    "chessboard_for, total_for = make_chessboard_for(ROWS,COLUMNS)\n",
    "chessboard_append, total_append = make_chessboard_append(ROWS,COLUMNS)\n",
    "\n",
    "print(\"ブロードキャストを使用した関数のチェス盤：\\n{}\".format(chessboard_nxm))\n",
    "print(\"for文を使用した関数のチェス盤：\\n{}\".format(chessboard_for))\n",
    "print(\"np.appendを使用した関数のチェス盤：\\n{}\".format(chessboard_append))"
   ]
  },
  {
   "cell_type": "markdown",
   "metadata": {},
   "source": [
    "## 【問題7】計算時間の比較\n",
    "3種類の方法を見てきました。それぞれの計算時間をJupyter Notebookの`%%timeit`を用いて計測し、比較と考察を行ってください。<br>\n",
    "<br>\n",
    "`%%timeit`はセル内のコードを複数回実行し、その平均実行時間を出力する働きをします。"
   ]
  },
  {
   "cell_type": "code",
   "execution_count": 246,
   "metadata": {},
   "outputs": [
    {
     "name": "stderr",
     "output_type": "stream",
     "text": [
      "/Users/tamiyagt/.pyenv/versions/anaconda3-2019.10/lib/python3.7/site-packages/ipykernel_launcher.py:3: RuntimeWarning: overflow encountered in exp2\n",
      "  This is separate from the ipykernel package so we can avoid doing imports until\n"
     ]
    },
    {
     "name": "stdout",
     "output_type": "stream",
     "text": [
      "3.22 ms ± 58 µs per loop (mean ± std. dev. of 7 runs, 100 loops each)\n"
     ]
    }
   ],
   "source": [
    "%%timeit\n",
    "#ブロードキャスト法の実行時間\n",
    "chessboard_nxm, total_nxm = make_chessboard(100,100)"
   ]
  },
  {
   "cell_type": "code",
   "execution_count": 247,
   "metadata": {},
   "outputs": [
    {
     "name": "stdout",
     "output_type": "stream",
     "text": [
      "14.8 ms ± 62.9 µs per loop (mean ± std. dev. of 7 runs, 100 loops each)\n"
     ]
    }
   ],
   "source": [
    "%%timeit\n",
    "#for文法の実行時間\n",
    "chessboard_for, total_for = make_chessboard_for(100,100)"
   ]
  },
  {
   "cell_type": "code",
   "execution_count": 248,
   "metadata": {},
   "outputs": [
    {
     "name": "stdout",
     "output_type": "stream",
     "text": [
      "452 ms ± 6.93 ms per loop (mean ± std. dev. of 7 runs, 1 loop each)\n"
     ]
    }
   ],
   "source": [
    "%%timeit\n",
    "#np.append法の実行時間\n",
    "chessboard_append, total_append = make_chessboard_append(100,100)"
   ]
  },
  {
   "cell_type": "markdown",
   "metadata": {},
   "source": [
    "計算方法の違いによる実行時間の差をより顕著にするため、100x100マスのチェス盤で各関数を実行した。結果、実行時間は下記の通りである。\n",
    "$$\n",
    "Broadcast<for loop<np.append\n",
    "$$\n",
    "ブロードキャスト法は、その名の通り0からnまでのarrayの値に$2^n$処理を一度に実行するため、計算時間が入力値数（計算回数）に左右されないと考えられる。他方で、for文法およびnp.append法は両方ともfor文を使用しており、計算時間は計算回数に比例するため、計算回数の増加は計算時間に大きく影響する。Numpyのappend法が三つの中で実行時間が最も遅かった理由については、for文内で毎回`board_ndarray`を書き換えていたためと思われるが、より深い検証を行うことが望ましい。\n",
    "\n",
    ">**4/15　授業内解説**<br>\n",
    ">`np.append`は要素を追加するためにメモリ領域を確保し直す必要があるため、Pythonの`append`より実行時間が長い。"
   ]
  },
  {
   "cell_type": "code",
   "execution_count": null,
   "metadata": {},
   "outputs": [],
   "source": []
  }
 ],
 "metadata": {
  "kernelspec": {
   "display_name": "Python 3",
   "language": "python",
   "name": "python3"
  },
  "language_info": {
   "codemirror_mode": {
    "name": "ipython",
    "version": 3
   },
   "file_extension": ".py",
   "mimetype": "text/x-python",
   "name": "python",
   "nbconvert_exporter": "python",
   "pygments_lexer": "ipython3",
   "version": "3.7.7"
  }
 },
 "nbformat": 4,
 "nbformat_minor": 4
}
