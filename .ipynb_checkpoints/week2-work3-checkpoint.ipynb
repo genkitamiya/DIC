{
 "cells": [
  {
   "cell_type": "markdown",
   "metadata": {},
   "source": [
    "# Week2授業前課題3 行列積のスクラッチ\n",
    "以下のような行列A、Bを考えます。<br>\n",
    "\n",
    "<br>\n",
    "\n",
    "$$\n",
    "% <![CDATA[\n",
    "A = \\left[\n",
    "\\begin{array}{ccc}\n",
    "  -1 & 2 & 3 \\\\\n",
    "  4 & -5 & 6 \\\\\u0018\u0018\n",
    "  7 & 8 & -9\n",
    "\\end{array}\n",
    "\\right],\n",
    "B = \\left[\n",
    "\\begin{array}{ccc}\n",
    "  0 & 2 & 1 \\\\\n",
    "  0 & 2 & -8 \\\\\n",
    "  2 & 9 & -1\n",
    "\\end{array}\n",
    "\\right] %]]>\n",
    "$$<br>\n",
    "\n",
    "<br>\n",
    "\n",
    "NumPyで表すと次のようになります。<br>\n",
    "<br>\n",
    "```\n",
    "import numpy as np\n",
    "a_ndarray = np.array([[-1, 2, 3], [4, -5, 6], [7, 8, -9]])\n",
    "b_ndarray = np.array([[0, 2, 1], [0, 2, -8], [2, 9, -1]])\n",
    "```"
   ]
  },
  {
   "cell_type": "markdown",
   "metadata": {},
   "source": [
    "## 【問題1】行列積を手計算する\n",
    "AとBの行列積を手計算で解いてください。<br>\n",
    "<br>\n",
    "計算過程もマークダウンテキストを用いて説明してください。"
   ]
  },
  {
   "cell_type": "markdown",
   "metadata": {},
   "source": [
    "$$\n",
    "AB = \\left[\n",
    "\\begin{array}{ccc}\n",
    "  AB_{11} & AB_{12} & AB_{13} \\\\\n",
    "  AB_{21} & AB_{22} & AB_{23} \\\\\u0018\u0018\n",
    "  AB_{31} & AB_{32} & AB_{33}\n",
    "\\end{array}\n",
    "\\right]=\n",
    "\\left[\n",
    "\\begin{array}{ccc}\n",
    "  6 & 29 & -20 \\\\\n",
    "  12 & 52 & 38 \\\\\n",
    "  -18 & -51 & -48\n",
    "\\end{array}\n",
    "\\right]\n",
    "$$\n",
    "\n",
    "$AB_{11} = A_{11}B_{11} + A_{12}B_{21} + A_{13}B_{31} = -1*0 + 2*0 + 3*2 = 6$\n",
    "$AB_{12} = A_{11}B_{12} + A_{12}B_{22} + A_{13}B_{32} = -1*2 + 2*2 + 3*9 = 29$\n",
    "$AB_{13} = A_{11}B_{13} + A_{12}B_{23} + A_{13}B_{33} = -1*1 + 2*-8 + 3*-1 = -20$\n",
    "$AB_{21} = A_{21}B_{11} + A_{22}B_{21} + A_{23}B_{31} = 4*0 + -5*0 + 6*2 = 12$\n",
    "$AB_{22} = A_{21}B_{12} + A_{22}B_{22} + A_{23}B_{32} = 4*2 + -5*2 + 6*9 = 52$\n",
    "$AB_{23} = A_{21}B_{13} + A_{22}B_{23} + A_{23}B_{33} = 4*1 + -5*-8 + 6*-1 = 38$\n",
    "$AB_{31} = A_{31}B_{11} + A_{32}B_{21} + A_{33}B_{31} = 7*0 + 8*0 + -9*2 = -18$\n",
    "$AB_{32} = A_{31}B_{12} + A_{32}B_{22} + A_{33}B_{32} = 7*2 + 8*2 + -9*9 = -51$\n",
    "$AB_{33} = A_{31}B_{13} + A_{32}B_{23} + A_{33}B_{33} = 7*1 + 8*-8 + -9*-1 = -48$\n",
    "\n"
   ]
  },
  {
   "cell_type": "markdown",
   "metadata": {},
   "source": [
    "## 【問題2】NumPyの関数による計算\n",
    "この行列積はNumPyの`np.matmul()`や`np.dot()`、または`@`b演算子を使うことで簡単に計算できます。<br>\n",
    "<br>\n",
    "これらを使い行列積を計算してください。"
   ]
  },
  {
   "cell_type": "code",
   "execution_count": 1,
   "metadata": {},
   "outputs": [
    {
     "name": "stdout",
     "output_type": "stream",
     "text": [
      "[[  6  29 -20]\n",
      " [ 12  52  38]\n",
      " [-18 -51 -48]]\n",
      "[[  6  29 -20]\n",
      " [ 12  52  38]\n",
      " [-18 -51 -48]]\n",
      "[[  6  29 -20]\n",
      " [ 12  52  38]\n",
      " [-18 -51 -48]]\n"
     ]
    }
   ],
   "source": [
    "import numpy as np\n",
    "a_ndarray = np.array([[-1, 2, 3], [4, -5, 6], [7, 8, -9]])\n",
    "b_ndarray = np.array([[0, 2, 1], [0, 2, -8], [2, 9, -1]])\n",
    "\n",
    "#np.dot計算法\n",
    "print(np.dot(a_ndarray,b_ndarray))\n",
    "#np.matmul計算法\n",
    "print(np.matmul(a_ndarray,b_ndarray))\n",
    "#@演算子計算法\n",
    "print(a_ndarray @ b_ndarray)"
   ]
  },
  {
   "cell_type": "markdown",
   "metadata": {},
   "source": [
    "`np.matmul()`や`np.dot()`、または`@`演算子を使わずに、手計算で行った計算過程をNumPyによるスクラッチ実装で再現していきましょう。これにより、行列積の計算に対する理解を深めます。ここで考えるのは行列AとBのような次元が2の配列に限定します。"
   ]
  },
  {
   "cell_type": "markdown",
   "metadata": {},
   "source": [
    "## 【問題3】ある要素の計算を実装\n",
    "手計算をする際はまず行列Aの0行目と行列Bの0列目に注目し、以下の計算を行ったかと思います。<br>\n",
    "\n",
    "<br>\n",
    "\n",
    "- 行列Aの(0,0)の要素$a_{0, 0}$と行列Bの(0,0)の要素$b_{0, 0}$を掛け合わせる\n",
    "- 行列Aの(0,1)の要素$a_{0, 1}$と行列Bの(1,0)の要素$b_{1, 0}$を掛け合わせる\n",
    "- 行列Aの(0,2)の要素$a_{0, 2}$と行列Bの(2,0)の要素$b_{2, 0}$を掛け合わせる\n",
    "- それらの値を全て足し合わせる<br>\n",
    "\n",
    "<br>\n",
    "\n",
    "数式で表すと<br>\n",
    "\n",
    "<br>\n",
    "\n",
    "$$\n",
    "\\sum^{2}_{k=0}a_{0,k}b_{k,0}\n",
    "$$\n",
    "\n",
    "です。<br>\n",
    "\n",
    "<br>\n",
    "\n",
    "この計算を`np.matmul()`や`np.dot()`、または`@`演算子を使わずに行うコードを書いてください。"
   ]
  },
  {
   "cell_type": "code",
   "execution_count": 2,
   "metadata": {},
   "outputs": [
    {
     "name": "stdout",
     "output_type": "stream",
     "text": [
      "6\n"
     ]
    }
   ],
   "source": [
    "#行列Aの0行と行列Bの0列を掛け合わせ、その和を出力\n",
    "AB_00 = sum(a_ndarray[0]*b_ndarray[:,0])\n",
    "print(AB_00)\n"
   ]
  },
  {
   "cell_type": "markdown",
   "metadata": {},
   "source": [
    "## 【問題4】行列積を行う関数の作成\n",
    "問題3のコードを拡張し、行列積のスクラッチ実装を完成させてください。行列AとBを引数に受け取り、行列積を返す関数としてください。\n",
    "\n",
    "行列積を計算する場合は、問題3の計算を異なる行や列に対して繰り返していくことになります。\n",
    "\n",
    "計算結果である$3 \\times 3$の行列Cの各要素$c_{i,j}$は数式で表すと次のようになります。<br>\n",
    "\n",
    "<br>\n",
    "\n",
    "$$\n",
    "c_{i,j} = \\sum^{2}_{k=0}a_{i,k}b_{k,j}\n",
    "$$\n",
    "\n",
    "<br>\n",
    "\n",
    "for文を使い、ndarrayのインデックスを動かしていくことで、合計9つの要素が計算できます。インデックス$i$や$j$を1増やすと、次の行や列に移ることができます。\n",
    "\n",
    "![matrix calc](https://t.gyazo.com/teams/diveintocode/129123df5242c9e768513f5e8b5ef24f.png)"
   ]
  },
  {
   "cell_type": "code",
   "execution_count": 3,
   "metadata": {},
   "outputs": [
    {
     "name": "stdout",
     "output_type": "stream",
     "text": [
      "[[  6  29 -20]\n",
      " [ 12  52  38]\n",
      " [-18 -51 -48]]\n",
      "[[6, 29, -20], [12, 52, 38], [-18, -51, -48]]\n"
     ]
    }
   ],
   "source": [
    "#方法１\n",
    "def matrix_mul(array1, array2):\n",
    "    \n",
    "    n_rows = len(array1)\n",
    "    n_columns = len(array2[0])\n",
    "    \n",
    "    product = []\n",
    "    for i in range(n_rows):\n",
    "        for j in range(n_columns):\n",
    "            element = sum(array1[i]*array2[:,j])\n",
    "            product.append(element)\n",
    "        \n",
    "    result = np.reshape(product, (n_rows,n_columns))\n",
    "    \n",
    "    return result\n",
    "\n",
    "print(matrix_mul(a_ndarray, b_ndarray))\n",
    "\n",
    "\n",
    "#方法２\n",
    "def matrix_mul_alt(x, y):\n",
    "    \n",
    "    test = [[sum(x[j]*y[:,i]) for i in range(len(x))] for j in range(len(y[0]))]\n",
    "    \n",
    "    return test\n",
    "\n",
    "print(matrix_mul_alt(a_ndarray, b_ndarray))"
   ]
  },
  {
   "cell_type": "markdown",
   "metadata": {},
   "source": [
    ">**メモ** <br>\n",
    ">\n",
    ">上記方法１および２は結果が同じだが、方法１は一旦リストを作成し、reshapeを行っている。他方、方法２は行列積の各要素を直接２次元リストの正しい位置に出力している。ただ、コードの見やすさでは方法１に軍配が上がるだろうか。"
   ]
  },
  {
   "cell_type": "markdown",
   "metadata": {},
   "source": [
    "次に以下のような例を考えます。<br>\n",
    "\n",
    "<br>\n",
    "\n",
    "$$\n",
    "% <![CDATA[\n",
    "D = \\left[\n",
    "    \\begin{array}{ccc}\n",
    "      -1 & 2 & 3 \\\\\n",
    "      4 & -5 & 6\n",
    "    \\end{array}\n",
    "  \\right],\n",
    "  E- = \\left[\n",
    "    \\begin{array}{ccc}\n",
    "       -9 & 8 & 7 \\\\\n",
    "      6 & -5 & 4\n",
    "    \\end{array}\n",
    "  \\right] %]]>\n",
    "$$  \n",
    "\n",
    "<br>\n",
    "\n",
    "```\n",
    "d_ndarray = np.array([[-1, 2, 3], [4, -5, 6]])\n",
    "e_ndarray = np.array([[-9, 8, 7], [6, -5, 4]])\n",
    "```\n",
    "\n",
    "行列積DEはDの列数とEの行数が等しい場合に定義されていますから、この例では計算ができません。"
   ]
  },
  {
   "cell_type": "markdown",
   "metadata": {},
   "source": [
    "## 【問題5】計算が定義されない入力を判定する\n",
    "問題4で作成した関数は、実装方法によってはこのDとEの配列を入力しても動いてしまう可能性があります。この場合、不適切な計算が行われることになります。また、途中でエラーになる場合でも、なぜエラーになったかが直接的には分かりづらいメッセージが表示されます。<br>\n",
    "<br>\n",
    "if文などによってこれを防ぎ、入力される形に問題があることを`print()`を使い表示するコードを書き加えてください。"
   ]
  },
  {
   "cell_type": "code",
   "execution_count": 4,
   "metadata": {},
   "outputs": [
    {
     "name": "stdout",
     "output_type": "stream",
     "text": [
      "[[-1  2  3]\n",
      " [ 4 -5  6]]の列数と[[-9  8  7]\n",
      " [ 6 -5  4]]の行数が等しくありません\n"
     ]
    }
   ],
   "source": [
    "d_ndarray = np.array([[-1, 2, 3], [4, -5, 6]])\n",
    "e_ndarray = np.array([[-9, 8, 7], [6, -5, 4]])\n",
    "\n",
    "def matrix_mul_rev(array1, array2):\n",
    "    \n",
    "    n_rows = len(array1)\n",
    "    n_columns = len(array2[0])\n",
    "    \n",
    "    product = []\n",
    "    \n",
    "    if n_rows == n_columns:\n",
    "        \n",
    "        for i in range(n_rows):\n",
    "            for j in range(n_columns):\n",
    "                element = sum(array1[i]*array2[:,j])\n",
    "                product.append(element)\n",
    "            \n",
    "        result = np.reshape(product, (n_rows,n_columns))\n",
    "\n",
    "        return result\n",
    "    \n",
    "    else:\n",
    "        return \"{}の列数と{}の行数が等しくありません\".format(array1, array2)\n",
    "        \n",
    "print(matrix_mul_rev(d_ndarray, e_ndarray))\n",
    "\n"
   ]
  },
  {
   "cell_type": "markdown",
   "metadata": {},
   "source": [
    ">**メモ** <br>\n",
    ">\n",
    ">変数名や引数名を取得し、出力する方法を課題とする。上記の場合、エラーメッセージ出力の際に、行列そのものでは無く、代入した変数名（d_ndarray）のみ出力したい。"
   ]
  },
  {
   "cell_type": "markdown",
   "metadata": {},
   "source": [
    "## 【問題6】転置\n",
    "片方の行列を転置することで、行列積が計算できるようになります。<br>\n",
    "\n",
    "<br>\n",
    "\n",
    "`np.transpose()`や`.T`アトリビュートを用いて転置し、行列積を計算してください。"
   ]
  },
  {
   "cell_type": "code",
   "execution_count": 5,
   "metadata": {},
   "outputs": [
    {
     "name": "stdout",
     "output_type": "stream",
     "text": [
      "[[ 33 -28   9]\n",
      " [-48  41  -6]\n",
      " [  9  -6  45]]\n",
      "[[ 46  -4]\n",
      " [-34  73]]\n"
     ]
    }
   ],
   "source": [
    "#d_ndarrayを転置し、行列積を再計算\n",
    "print(matrix_mul_rev(d_ndarray.T, e_ndarray))\n",
    "\n",
    "#e_ndarrayを転置し、行列積を再計算\n",
    "print(matrix_mul_rev(d_ndarray, e_ndarray.T))"
   ]
  }
 ],
 "metadata": {
  "kernelspec": {
   "display_name": "Python 3",
   "language": "python",
   "name": "python3"
  },
  "language_info": {
   "codemirror_mode": {
    "name": "ipython",
    "version": 3
   },
   "file_extension": ".py",
   "mimetype": "text/x-python",
   "name": "python",
   "nbconvert_exporter": "python",
   "pygments_lexer": "ipython3",
   "version": "3.7.7"
  }
 },
 "nbformat": 4,
 "nbformat_minor": 2
}
